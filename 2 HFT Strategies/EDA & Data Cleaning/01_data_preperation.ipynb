{
 "cells": [
  {
   "cell_type": "markdown",
   "metadata": {},
   "source": [
    "# Data Preperation for Top3 Flop3 Model Backtest"
   ]
  },
  {
   "cell_type": "code",
   "execution_count": 1,
   "metadata": {},
   "outputs": [],
   "source": [
    "import os\n",
    "import sys\n",
    "import numpy as np\n",
    "import pandas as pd\n",
    "\n",
    "sys.path.append('C:/Users/ReinisFals/OneDrive - Peero, SIA/Desktop/stat_arb_research/stat_arb_research/2 HFT Strategies/top3_flop3')\n",
    "\n",
    "from dataprovider import CryptoMinuteDataProvider"
   ]
  },
  {
   "cell_type": "markdown",
   "metadata": {},
   "source": [
    "## Time Interval"
   ]
  },
  {
   "cell_type": "code",
   "execution_count": 2,
   "metadata": {},
   "outputs": [
    {
     "name": "stdout",
     "output_type": "stream",
     "text": [
      "The number of minutes between 01 May 2022 00:00:00 and 01 May 2023 00:00:00 is 525600 minutes.\n"
     ]
    }
   ],
   "source": [
    "# time interval has to be set in dataprovider.py file\n",
    "from datetime import datetime\n",
    "\n",
    "date_format = \"%d %b %Y %H:%M:%S\"\n",
    "start_date_str = \"01 May 2022 00:00:00\"\n",
    "end_date_str = \"01 May 2023 00:00:00\"\n",
    "\n",
    "start_date = datetime.strptime(start_date_str, date_format)\n",
    "end_date = datetime.strptime(end_date_str, date_format)\n",
    "\n",
    "difference = end_date - start_date\n",
    "minutes_difference = difference.total_seconds() / 60\n",
    "\n",
    "print(f\"The number of minutes between {start_date_str} and {end_date_str} is {minutes_difference:.0f} minutes.\")"
   ]
  },
  {
   "cell_type": "markdown",
   "metadata": {},
   "source": [
    "## Data Processing"
   ]
  },
  {
   "cell_type": "code",
   "execution_count": 3,
   "metadata": {},
   "outputs": [],
   "source": [
    "data_path = 'C:\\\\Users\\\\ReinisFals\\\\OneDrive - Peero, SIA\\\\Desktop\\\\stat_arb_research\\\\stat_arb_research\\\\data\\\\A_MERGEABLE\\\\'"
   ]
  },
  {
   "cell_type": "code",
   "execution_count": 4,
   "metadata": {},
   "outputs": [],
   "source": [
    "dataframes = {}\n",
    "\n",
    "for folder in os.listdir(data_path):\n",
    "    folder_path = os.path.join(data_path, folder)\n",
    "    if os.path.isdir(folder_path):\n",
    "        parquet_files = [file for file in os.listdir(folder_path) if file.endswith('combined.parquet')]\n",
    "        for file in parquet_files:\n",
    "            file_path = os.path.join(folder_path, file)\n",
    "            df = pd.read_parquet(file_path)\n",
    "            dataframes[file[:-8]] = df"
   ]
  },
  {
   "cell_type": "code",
   "execution_count": 5,
   "metadata": {},
   "outputs": [
    {
     "data": {
      "text/plain": [
       "dict_keys(['AAVE_combined', 'ADA_combined', 'ALGO_combined', 'APE_combined', 'APT_combined', 'ARB_combined', 'ATOM_combined', 'AVAX_combined', 'AXS_combined', 'BCH_combined', 'BNB_combined', 'BTC_combined', 'CAKE_combined', 'CRV_combined', 'DOGE_combined', 'DOT_combined', 'DYDX_combined', 'EGLD_combined', 'EOS_combined', 'ETC_combined', 'ETH_combined', 'FIL_combined', 'FLOW_combined', 'FTM_combined', 'GALA_combined', 'GRT_combined', 'HBAR_combined', 'ICP_combined', 'IMX_combined', 'INJ_combined', 'LDO_combined', 'LINK_combined', 'LTC_combined', 'MAGIC_combined', 'MANA_combined', 'MATIC_combined', 'MKR_combined', 'NEAR_combined', 'NEO_combined', 'OP_combined', 'QNT_combined', 'RNDR_combined', 'RPL_combined', 'SAND_combined', 'SHIB_combined', 'SOL_combined', 'STX_combined', 'THETA_combined', 'TRX_combined', 'UNI_combined', 'VET_combined', 'XEC_combined', 'XLM_combined', 'XMR_combined', 'XRP_combined', 'XTZ_combined'])"
      ]
     },
     "execution_count": 5,
     "metadata": {},
     "output_type": "execute_result"
    }
   ],
   "source": [
    "dataframes.keys()"
   ]
  },
  {
   "cell_type": "code",
   "execution_count": 6,
   "metadata": {},
   "outputs": [
    {
     "name": "stdout",
     "output_type": "stream",
     "text": [
      "[INFO] Rebuilding raw data from Parquet files\n",
      "[INFO] Processing AAVE_combined\n",
      "[INFO] Processing ADA_combined\n",
      "[INFO] Processing ALGO_combined\n",
      "[INFO] Processing APE_combined\n",
      "[INFO] Processing APT_combined\n",
      "[INFO] Processing ARB_combined\n",
      "[INFO] Processing ATOM_combined\n",
      "[INFO] Processing AVAX_combined\n",
      "[INFO] Processing AXS_combined\n",
      "[INFO] Processing BCH_combined\n",
      "[INFO] Processing BNB_combined\n",
      "[INFO] Processing BTC_combined\n",
      "[INFO] Processing CAKE_combined\n",
      "[INFO] Processing CRV_combined\n",
      "[INFO] Processing DOGE_combined\n",
      "[INFO] Processing DOT_combined\n",
      "[INFO] Processing DYDX_combined\n",
      "[INFO] Processing EGLD_combined\n",
      "[INFO] Processing EOS_combined\n",
      "[INFO] Processing ETC_combined\n",
      "[INFO] Processing ETH_combined\n",
      "[INFO] Processing FIL_combined\n",
      "[INFO] Processing FLOW_combined\n",
      "[INFO] Processing FTM_combined\n",
      "[INFO] Processing GALA_combined\n",
      "[INFO] Processing GRT_combined\n",
      "[INFO] Processing HBAR_combined\n",
      "[INFO] Processing ICP_combined\n",
      "[INFO] Processing IMX_combined\n",
      "[INFO] Processing INJ_combined\n",
      "[INFO] Processing LDO_combined\n",
      "[INFO] Processing LINK_combined\n",
      "[INFO] Processing LTC_combined\n",
      "[INFO] Processing MAGIC_combined\n",
      "[INFO] Processing MANA_combined\n",
      "[INFO] Processing MATIC_combined\n",
      "[INFO] Processing MKR_combined\n",
      "[INFO] Processing NEAR_combined\n",
      "[INFO] Processing NEO_combined\n",
      "[INFO] Processing OP_combined\n",
      "[INFO] Processing QNT_combined\n",
      "[INFO] Processing RNDR_combined\n",
      "[INFO] Processing RPL_combined\n",
      "[INFO] Processing SAND_combined\n",
      "[INFO] Processing SHIB_combined\n",
      "[INFO] Processing SOL_combined\n",
      "[INFO] Processing STX_combined\n",
      "[INFO] Processing THETA_combined\n",
      "[INFO] Processing TRX_combined\n",
      "[INFO] Processing UNI_combined\n",
      "[INFO] Processing VET_combined\n",
      "[INFO] Processing XEC_combined\n",
      "[INFO] Processing XLM_combined\n",
      "[INFO] Processing XMR_combined\n",
      "[INFO] Processing XRP_combined\n",
      "[INFO] Processing XTZ_combined\n",
      "[INFO] Raw data successfully processed\n",
      "Index(['open', 'high', 'low', 'close', 'volume', 'quote_asset_volume', 'count',\n",
      "       'taker_buy_base_asset_volume', 'taker_buy_quote_asset_volume'],\n",
      "      dtype='object')\n"
     ]
    }
   ],
   "source": [
    "provider = CryptoMinuteDataProvider(dataframes)\n",
    "raw_data = provider.get_full_raw_data()"
   ]
  },
  {
   "cell_type": "code",
   "execution_count": 7,
   "metadata": {},
   "outputs": [
    {
     "data": {
      "text/html": [
       "<div>\n",
       "<style scoped>\n",
       "    .dataframe tbody tr th:only-of-type {\n",
       "        vertical-align: middle;\n",
       "    }\n",
       "\n",
       "    .dataframe tbody tr th {\n",
       "        vertical-align: top;\n",
       "    }\n",
       "\n",
       "    .dataframe thead th {\n",
       "        text-align: right;\n",
       "    }\n",
       "</style>\n",
       "<table border=\"1\" class=\"dataframe\">\n",
       "  <thead>\n",
       "    <tr style=\"text-align: right;\">\n",
       "      <th></th>\n",
       "      <th></th>\n",
       "      <th>open</th>\n",
       "      <th>high</th>\n",
       "      <th>low</th>\n",
       "      <th>close</th>\n",
       "      <th>volume_to</th>\n",
       "      <th>volume_from</th>\n",
       "    </tr>\n",
       "    <tr>\n",
       "      <th>Date</th>\n",
       "      <th>Coin</th>\n",
       "      <th></th>\n",
       "      <th></th>\n",
       "      <th></th>\n",
       "      <th></th>\n",
       "      <th></th>\n",
       "      <th></th>\n",
       "    </tr>\n",
       "  </thead>\n",
       "  <tbody>\n",
       "    <tr>\n",
       "      <th rowspan=\"5\" valign=\"top\">2022-05-01</th>\n",
       "      <th>AAVE_combined</th>\n",
       "      <td>142.30000</td>\n",
       "      <td>142.50000</td>\n",
       "      <td>142.10000</td>\n",
       "      <td>142.30000</td>\n",
       "      <td>114.258</td>\n",
       "      <td>1.625806e+04</td>\n",
       "    </tr>\n",
       "    <tr>\n",
       "      <th>ADA_combined</th>\n",
       "      <td>0.75550</td>\n",
       "      <td>0.75620</td>\n",
       "      <td>0.75420</td>\n",
       "      <td>0.75560</td>\n",
       "      <td>125061.000</td>\n",
       "      <td>9.446724e+04</td>\n",
       "    </tr>\n",
       "    <tr>\n",
       "      <th>ALGO_combined</th>\n",
       "      <td>0.56720</td>\n",
       "      <td>0.56840</td>\n",
       "      <td>0.56700</td>\n",
       "      <td>0.56770</td>\n",
       "      <td>41247.000</td>\n",
       "      <td>2.341402e+04</td>\n",
       "    </tr>\n",
       "    <tr>\n",
       "      <th>APE_combined</th>\n",
       "      <td>19.99000</td>\n",
       "      <td>20.00000</td>\n",
       "      <td>19.75070</td>\n",
       "      <td>19.94640</td>\n",
       "      <td>53074.770</td>\n",
       "      <td>1.054616e+06</td>\n",
       "    </tr>\n",
       "    <tr>\n",
       "      <th>APT_combined</th>\n",
       "      <td>NaN</td>\n",
       "      <td>NaN</td>\n",
       "      <td>NaN</td>\n",
       "      <td>NaN</td>\n",
       "      <td>0.000</td>\n",
       "      <td>0.000000e+00</td>\n",
       "    </tr>\n",
       "    <tr>\n",
       "      <th>...</th>\n",
       "      <th>...</th>\n",
       "      <td>...</td>\n",
       "      <td>...</td>\n",
       "      <td>...</td>\n",
       "      <td>...</td>\n",
       "      <td>...</td>\n",
       "      <td>...</td>\n",
       "    </tr>\n",
       "    <tr>\n",
       "      <th rowspan=\"5\" valign=\"top\">2023-05-01</th>\n",
       "      <th>XEC_combined</th>\n",
       "      <td>0.00003</td>\n",
       "      <td>0.00003</td>\n",
       "      <td>0.00003</td>\n",
       "      <td>0.00003</td>\n",
       "      <td>4717946.000</td>\n",
       "      <td>1.400329e+02</td>\n",
       "    </tr>\n",
       "    <tr>\n",
       "      <th>XLM_combined</th>\n",
       "      <td>0.09440</td>\n",
       "      <td>0.09450</td>\n",
       "      <td>0.09430</td>\n",
       "      <td>0.09450</td>\n",
       "      <td>59221.000</td>\n",
       "      <td>5.595528e+03</td>\n",
       "    </tr>\n",
       "    <tr>\n",
       "      <th>XMR_combined</th>\n",
       "      <td>155.50000</td>\n",
       "      <td>155.50000</td>\n",
       "      <td>154.60000</td>\n",
       "      <td>155.10000</td>\n",
       "      <td>192.499</td>\n",
       "      <td>2.987542e+04</td>\n",
       "    </tr>\n",
       "    <tr>\n",
       "      <th>XRP_combined</th>\n",
       "      <td>0.47050</td>\n",
       "      <td>0.47130</td>\n",
       "      <td>0.47040</td>\n",
       "      <td>0.47080</td>\n",
       "      <td>614773.000</td>\n",
       "      <td>2.895395e+05</td>\n",
       "    </tr>\n",
       "    <tr>\n",
       "      <th>XTZ_combined</th>\n",
       "      <td>1.00000</td>\n",
       "      <td>1.00100</td>\n",
       "      <td>0.99900</td>\n",
       "      <td>0.99900</td>\n",
       "      <td>220.200</td>\n",
       "      <td>2.202200e+02</td>\n",
       "    </tr>\n",
       "  </tbody>\n",
       "</table>\n",
       "<p>29433656 rows × 6 columns</p>\n",
       "</div>"
      ],
      "text/plain": [
       "                               open       high        low      close  \\\n",
       "Date       Coin                                                        \n",
       "2022-05-01 AAVE_combined  142.30000  142.50000  142.10000  142.30000   \n",
       "           ADA_combined     0.75550    0.75620    0.75420    0.75560   \n",
       "           ALGO_combined    0.56720    0.56840    0.56700    0.56770   \n",
       "           APE_combined    19.99000   20.00000   19.75070   19.94640   \n",
       "           APT_combined         NaN        NaN        NaN        NaN   \n",
       "...                             ...        ...        ...        ...   \n",
       "2023-05-01 XEC_combined     0.00003    0.00003    0.00003    0.00003   \n",
       "           XLM_combined     0.09440    0.09450    0.09430    0.09450   \n",
       "           XMR_combined   155.50000  155.50000  154.60000  155.10000   \n",
       "           XRP_combined     0.47050    0.47130    0.47040    0.47080   \n",
       "           XTZ_combined     1.00000    1.00100    0.99900    0.99900   \n",
       "\n",
       "                            volume_to   volume_from  \n",
       "Date       Coin                                      \n",
       "2022-05-01 AAVE_combined      114.258  1.625806e+04  \n",
       "           ADA_combined    125061.000  9.446724e+04  \n",
       "           ALGO_combined    41247.000  2.341402e+04  \n",
       "           APE_combined     53074.770  1.054616e+06  \n",
       "           APT_combined         0.000  0.000000e+00  \n",
       "...                               ...           ...  \n",
       "2023-05-01 XEC_combined   4717946.000  1.400329e+02  \n",
       "           XLM_combined     59221.000  5.595528e+03  \n",
       "           XMR_combined       192.499  2.987542e+04  \n",
       "           XRP_combined    614773.000  2.895395e+05  \n",
       "           XTZ_combined       220.200  2.202200e+02  \n",
       "\n",
       "[29433656 rows x 6 columns]"
      ]
     },
     "execution_count": 7,
     "metadata": {},
     "output_type": "execute_result"
    }
   ],
   "source": [
    "raw_data.rename(columns={'taker_buy_base_asset_volume': 'volume_to', 'taker_buy_quote_asset_volume': 'volume_from'}, inplace=True)\n",
    "raw_data"
   ]
  },
  {
   "cell_type": "code",
   "execution_count": 8,
   "metadata": {},
   "outputs": [
    {
     "name": "stdout",
     "output_type": "stream",
     "text": [
      "<class 'pandas.core.frame.DataFrame'>\n",
      "MultiIndex: 29433656 entries, (Timestamp('2022-05-01 00:00:00'), 'AAVE_combined') to (Timestamp('2023-05-01 00:00:00'), 'XTZ_combined')\n",
      "Data columns (total 6 columns):\n",
      " #   Column       Dtype  \n",
      "---  ------       -----  \n",
      " 0   open         float64\n",
      " 1   high         float64\n",
      " 2   low          float64\n",
      " 3   close        float64\n",
      " 4   volume_to    float64\n",
      " 5   volume_from  float64\n",
      "dtypes: float64(6)\n",
      "memory usage: 1.5 GB\n"
     ]
    }
   ],
   "source": [
    "# file size\n",
    "raw_data.info(memory_usage='deep')"
   ]
  },
  {
   "cell_type": "code",
   "execution_count": 9,
   "metadata": {},
   "outputs": [],
   "source": [
    "# save raw_data as parquet file\n",
    "raw_data.to_parquet('C:\\\\Users\\\\ReinisFals\\\\OneDrive - Peero, SIA\\\\Desktop\\\\stat_arb_research\\\\stat_arb_research\\data\\Processed Data\\\\data_01052022_01052023.parquet')\n",
    "# 11 seconds to save"
   ]
  }
 ],
 "metadata": {
  "kernelspec": {
   "display_name": "stat_arb_env",
   "language": "python",
   "name": "python3"
  },
  "language_info": {
   "codemirror_mode": {
    "name": "ipython",
    "version": 3
   },
   "file_extension": ".py",
   "mimetype": "text/x-python",
   "name": "python",
   "nbconvert_exporter": "python",
   "pygments_lexer": "ipython3",
   "version": "3.8.16"
  },
  "orig_nbformat": 4
 },
 "nbformat": 4,
 "nbformat_minor": 2
}
