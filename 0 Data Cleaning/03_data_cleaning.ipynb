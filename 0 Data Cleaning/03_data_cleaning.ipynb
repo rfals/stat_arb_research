{
 "cells": [
  {
   "cell_type": "markdown",
   "metadata": {},
   "source": [
    "# Data Cleaning"
   ]
  },
  {
   "cell_type": "code",
   "execution_count": 1,
   "metadata": {},
   "outputs": [],
   "source": [
    "import os\n",
    "\n",
    "import numpy as np\n",
    "import pandas as pd\n",
    "\n",
    "import matplotlib.pyplot as plt\n",
    "import seaborn as sns"
   ]
  },
  {
   "cell_type": "code",
   "execution_count": 12,
   "metadata": {},
   "outputs": [
    {
     "data": {
      "text/html": [
       "<div>\n",
       "<style scoped>\n",
       "    .dataframe tbody tr th:only-of-type {\n",
       "        vertical-align: middle;\n",
       "    }\n",
       "\n",
       "    .dataframe tbody tr th {\n",
       "        vertical-align: top;\n",
       "    }\n",
       "\n",
       "    .dataframe thead th {\n",
       "        text-align: right;\n",
       "    }\n",
       "</style>\n",
       "<table border=\"1\" class=\"dataframe\">\n",
       "  <thead>\n",
       "    <tr style=\"text-align: right;\">\n",
       "      <th></th>\n",
       "      <th>1602730800000</th>\n",
       "      <th>51.43000000</th>\n",
       "      <th>59.00000000</th>\n",
       "      <th>50.66600000</th>\n",
       "      <th>55.60700000</th>\n",
       "      <th>1369.48100000</th>\n",
       "      <th>1602730859999</th>\n",
       "      <th>75607.77901300</th>\n",
       "      <th>361</th>\n",
       "      <th>898.43400000</th>\n",
       "      <th>50012.70048000</th>\n",
       "      <th>0</th>\n",
       "    </tr>\n",
       "  </thead>\n",
       "  <tbody>\n",
       "    <tr>\n",
       "      <th>0</th>\n",
       "      <td>1602730860000</td>\n",
       "      <td>55.603</td>\n",
       "      <td>55.623</td>\n",
       "      <td>52.000</td>\n",
       "      <td>52.845</td>\n",
       "      <td>1120.278</td>\n",
       "      <td>1602730919999</td>\n",
       "      <td>59696.689968</td>\n",
       "      <td>178</td>\n",
       "      <td>658.949</td>\n",
       "      <td>35330.288555</td>\n",
       "      <td>0</td>\n",
       "    </tr>\n",
       "    <tr>\n",
       "      <th>1</th>\n",
       "      <td>1602730920000</td>\n",
       "      <td>52.845</td>\n",
       "      <td>52.846</td>\n",
       "      <td>51.283</td>\n",
       "      <td>51.999</td>\n",
       "      <td>466.672</td>\n",
       "      <td>1602730979999</td>\n",
       "      <td>24288.122840</td>\n",
       "      <td>94</td>\n",
       "      <td>185.675</td>\n",
       "      <td>9659.760008</td>\n",
       "      <td>0</td>\n",
       "    </tr>\n",
       "    <tr>\n",
       "      <th>2</th>\n",
       "      <td>1602730980000</td>\n",
       "      <td>51.999</td>\n",
       "      <td>52.000</td>\n",
       "      <td>50.665</td>\n",
       "      <td>51.736</td>\n",
       "      <td>205.109</td>\n",
       "      <td>1602731039999</td>\n",
       "      <td>10594.203061</td>\n",
       "      <td>68</td>\n",
       "      <td>78.099</td>\n",
       "      <td>4043.744534</td>\n",
       "      <td>0</td>\n",
       "    </tr>\n",
       "    <tr>\n",
       "      <th>3</th>\n",
       "      <td>1602731040000</td>\n",
       "      <td>51.742</td>\n",
       "      <td>51.776</td>\n",
       "      <td>51.500</td>\n",
       "      <td>51.632</td>\n",
       "      <td>310.324</td>\n",
       "      <td>1602731099999</td>\n",
       "      <td>16011.251406</td>\n",
       "      <td>44</td>\n",
       "      <td>174.396</td>\n",
       "      <td>9004.233218</td>\n",
       "      <td>0</td>\n",
       "    </tr>\n",
       "    <tr>\n",
       "      <th>4</th>\n",
       "      <td>1602731100000</td>\n",
       "      <td>51.641</td>\n",
       "      <td>51.737</td>\n",
       "      <td>51.579</td>\n",
       "      <td>51.640</td>\n",
       "      <td>231.521</td>\n",
       "      <td>1602731159999</td>\n",
       "      <td>11956.518642</td>\n",
       "      <td>46</td>\n",
       "      <td>211.730</td>\n",
       "      <td>10934.621030</td>\n",
       "      <td>0</td>\n",
       "    </tr>\n",
       "    <tr>\n",
       "      <th>...</th>\n",
       "      <td>...</td>\n",
       "      <td>...</td>\n",
       "      <td>...</td>\n",
       "      <td>...</td>\n",
       "      <td>...</td>\n",
       "      <td>...</td>\n",
       "      <td>...</td>\n",
       "      <td>...</td>\n",
       "      <td>...</td>\n",
       "      <td>...</td>\n",
       "      <td>...</td>\n",
       "      <td>...</td>\n",
       "    </tr>\n",
       "    <tr>\n",
       "      <th>24294</th>\n",
       "      <td>1604188500000</td>\n",
       "      <td>29.754</td>\n",
       "      <td>29.754</td>\n",
       "      <td>29.754</td>\n",
       "      <td>29.754</td>\n",
       "      <td>0.000</td>\n",
       "      <td>1604188559999</td>\n",
       "      <td>0.000000</td>\n",
       "      <td>0</td>\n",
       "      <td>0.000</td>\n",
       "      <td>0.000000</td>\n",
       "      <td>0</td>\n",
       "    </tr>\n",
       "    <tr>\n",
       "      <th>24295</th>\n",
       "      <td>1604188560000</td>\n",
       "      <td>29.754</td>\n",
       "      <td>29.754</td>\n",
       "      <td>29.754</td>\n",
       "      <td>29.754</td>\n",
       "      <td>0.000</td>\n",
       "      <td>1604188619999</td>\n",
       "      <td>0.000000</td>\n",
       "      <td>0</td>\n",
       "      <td>0.000</td>\n",
       "      <td>0.000000</td>\n",
       "      <td>0</td>\n",
       "    </tr>\n",
       "    <tr>\n",
       "      <th>24296</th>\n",
       "      <td>1604188620000</td>\n",
       "      <td>29.700</td>\n",
       "      <td>29.700</td>\n",
       "      <td>29.700</td>\n",
       "      <td>29.700</td>\n",
       "      <td>1.000</td>\n",
       "      <td>1604188679999</td>\n",
       "      <td>29.700000</td>\n",
       "      <td>1</td>\n",
       "      <td>1.000</td>\n",
       "      <td>29.700000</td>\n",
       "      <td>0</td>\n",
       "    </tr>\n",
       "    <tr>\n",
       "      <th>24297</th>\n",
       "      <td>1604188680000</td>\n",
       "      <td>29.700</td>\n",
       "      <td>29.700</td>\n",
       "      <td>29.700</td>\n",
       "      <td>29.700</td>\n",
       "      <td>0.000</td>\n",
       "      <td>1604188739999</td>\n",
       "      <td>0.000000</td>\n",
       "      <td>0</td>\n",
       "      <td>0.000</td>\n",
       "      <td>0.000000</td>\n",
       "      <td>0</td>\n",
       "    </tr>\n",
       "    <tr>\n",
       "      <th>24298</th>\n",
       "      <td>1604188740000</td>\n",
       "      <td>29.700</td>\n",
       "      <td>29.700</td>\n",
       "      <td>29.700</td>\n",
       "      <td>29.700</td>\n",
       "      <td>0.000</td>\n",
       "      <td>1604188799999</td>\n",
       "      <td>0.000000</td>\n",
       "      <td>0</td>\n",
       "      <td>0.000</td>\n",
       "      <td>0.000000</td>\n",
       "      <td>0</td>\n",
       "    </tr>\n",
       "  </tbody>\n",
       "</table>\n",
       "<p>24299 rows × 12 columns</p>\n",
       "</div>"
      ],
      "text/plain": [
       "       1602730800000  51.43000000  59.00000000  50.66600000  55.60700000  \\\n",
       "0      1602730860000       55.603       55.623       52.000       52.845   \n",
       "1      1602730920000       52.845       52.846       51.283       51.999   \n",
       "2      1602730980000       51.999       52.000       50.665       51.736   \n",
       "3      1602731040000       51.742       51.776       51.500       51.632   \n",
       "4      1602731100000       51.641       51.737       51.579       51.640   \n",
       "...              ...          ...          ...          ...          ...   \n",
       "24294  1604188500000       29.754       29.754       29.754       29.754   \n",
       "24295  1604188560000       29.754       29.754       29.754       29.754   \n",
       "24296  1604188620000       29.700       29.700       29.700       29.700   \n",
       "24297  1604188680000       29.700       29.700       29.700       29.700   \n",
       "24298  1604188740000       29.700       29.700       29.700       29.700   \n",
       "\n",
       "       1369.48100000  1602730859999  75607.77901300  361  898.43400000  \\\n",
       "0           1120.278  1602730919999    59696.689968  178       658.949   \n",
       "1            466.672  1602730979999    24288.122840   94       185.675   \n",
       "2            205.109  1602731039999    10594.203061   68        78.099   \n",
       "3            310.324  1602731099999    16011.251406   44       174.396   \n",
       "4            231.521  1602731159999    11956.518642   46       211.730   \n",
       "...              ...            ...             ...  ...           ...   \n",
       "24294          0.000  1604188559999        0.000000    0         0.000   \n",
       "24295          0.000  1604188619999        0.000000    0         0.000   \n",
       "24296          1.000  1604188679999       29.700000    1         1.000   \n",
       "24297          0.000  1604188739999        0.000000    0         0.000   \n",
       "24298          0.000  1604188799999        0.000000    0         0.000   \n",
       "\n",
       "       50012.70048000  0  \n",
       "0        35330.288555  0  \n",
       "1         9659.760008  0  \n",
       "2         4043.744534  0  \n",
       "3         9004.233218  0  \n",
       "4        10934.621030  0  \n",
       "...               ... ..  \n",
       "24294        0.000000  0  \n",
       "24295        0.000000  0  \n",
       "24296       29.700000  0  \n",
       "24297        0.000000  0  \n",
       "24298        0.000000  0  \n",
       "\n",
       "[24299 rows x 12 columns]"
      ]
     },
     "execution_count": 12,
     "metadata": {},
     "output_type": "execute_result"
    }
   ],
   "source": [
    "test = pd.read_parquet(r'C:\\Users\\ReinisFals\\OneDrive - Peero, SIA\\Desktop\\stat_arb_research\\stat_arb_research\\data\\A_MERGEABLE\\AAVE\\AAVEUSDT-1m-2020-10.parquet')\n",
    "test"
   ]
  },
  {
   "cell_type": "markdown",
   "metadata": {},
   "source": [
    "## Set Headers"
   ]
  },
  {
   "cell_type": "code",
   "execution_count": 26,
   "metadata": {},
   "outputs": [],
   "source": [
    "# Define the desired headers\n",
    "desired_headers = ['open_time', 'open', 'high', 'low', 'close', 'volume', 'close_time',\n",
    "                   'quote_asset_volume', 'count', 'taker_buy_base_asset_volume',\n",
    "                   'taker_buy_quote_asset_volume', 'ignore']\n",
    "\n",
    "# Function to process a single parquet file\n",
    "def process_parquet_file(file_path):\n",
    "    # Read the parquet file\n",
    "    df = pd.read_parquet(file_path)\n",
    "    \n",
    "    # Get the existing headers from the values in the first row\n",
    "    existing_headers = df.columns.tolist()\n",
    "    \n",
    "    # Add the existing headers as a row at the beginning of the DataFrame\n",
    "    df.loc[-1] = existing_headers\n",
    "    df.index = df.index + 1\n",
    "    df.sort_index(inplace=True)\n",
    "    \n",
    "    # Set the desired headers\n",
    "    df.columns = desired_headers\n",
    "    \n",
    "    # Convert columns to strings\n",
    "    df = df.astype(str)\n",
    "    \n",
    "    # Save the modified DataFrame back to the parquet file\n",
    "    df.to_parquet(file_path)\n",
    "\n",
    "# Function to process all parquet files in a folder and its subfolders\n",
    "def process_folder(folder_path):\n",
    "    for root, _, files in os.walk(folder_path):\n",
    "        for file in files:\n",
    "            if file.endswith('.parquet'):\n",
    "                file_path = os.path.join(root, file)\n",
    "                process_parquet_file(file_path)"
   ]
  },
  {
   "cell_type": "code",
   "execution_count": 27,
   "metadata": {},
   "outputs": [],
   "source": [
    "# Specify the path to the main folder containing the subfolders and parquet files\n",
    "folder_path = 'C:/Users/ReinisFals/OneDrive - Peero, SIA/Desktop/stat_arb_research/stat_arb_research/data/A_MERGEABLE/'"
   ]
  },
  {
   "cell_type": "code",
   "execution_count": 28,
   "metadata": {},
   "outputs": [],
   "source": [
    "# Call the function to process the main folder\n",
    "process_folder(folder_path)"
   ]
  },
  {
   "cell_type": "code",
   "execution_count": 29,
   "metadata": {},
   "outputs": [
    {
     "data": {
      "text/html": [
       "<div>\n",
       "<style scoped>\n",
       "    .dataframe tbody tr th:only-of-type {\n",
       "        vertical-align: middle;\n",
       "    }\n",
       "\n",
       "    .dataframe tbody tr th {\n",
       "        vertical-align: top;\n",
       "    }\n",
       "\n",
       "    .dataframe thead th {\n",
       "        text-align: right;\n",
       "    }\n",
       "</style>\n",
       "<table border=\"1\" class=\"dataframe\">\n",
       "  <thead>\n",
       "    <tr style=\"text-align: right;\">\n",
       "      <th></th>\n",
       "      <th>open_time</th>\n",
       "      <th>open</th>\n",
       "      <th>high</th>\n",
       "      <th>low</th>\n",
       "      <th>close</th>\n",
       "      <th>volume</th>\n",
       "      <th>close_time</th>\n",
       "      <th>quote_asset_volume</th>\n",
       "      <th>count</th>\n",
       "      <th>taker_buy_base_asset_volume</th>\n",
       "      <th>taker_buy_quote_asset_volume</th>\n",
       "      <th>ignore</th>\n",
       "    </tr>\n",
       "  </thead>\n",
       "  <tbody>\n",
       "    <tr>\n",
       "      <th>0</th>\n",
       "      <td>1602730800000</td>\n",
       "      <td>51.43000000</td>\n",
       "      <td>59.00000000</td>\n",
       "      <td>50.66600000</td>\n",
       "      <td>55.60700000</td>\n",
       "      <td>1369.48100000</td>\n",
       "      <td>1602730859999</td>\n",
       "      <td>75607.77901300</td>\n",
       "      <td>361</td>\n",
       "      <td>898.43400000</td>\n",
       "      <td>50012.70048000</td>\n",
       "      <td>0</td>\n",
       "    </tr>\n",
       "    <tr>\n",
       "      <th>1</th>\n",
       "      <td>1602730860000</td>\n",
       "      <td>55.603</td>\n",
       "      <td>55.623</td>\n",
       "      <td>52.0</td>\n",
       "      <td>52.845</td>\n",
       "      <td>1120.278</td>\n",
       "      <td>1602730919999</td>\n",
       "      <td>59696.689968</td>\n",
       "      <td>178</td>\n",
       "      <td>658.949</td>\n",
       "      <td>35330.288555</td>\n",
       "      <td>0</td>\n",
       "    </tr>\n",
       "    <tr>\n",
       "      <th>2</th>\n",
       "      <td>1602730920000</td>\n",
       "      <td>52.845</td>\n",
       "      <td>52.846</td>\n",
       "      <td>51.283</td>\n",
       "      <td>51.999</td>\n",
       "      <td>466.672</td>\n",
       "      <td>1602730979999</td>\n",
       "      <td>24288.12284</td>\n",
       "      <td>94</td>\n",
       "      <td>185.675</td>\n",
       "      <td>9659.760008</td>\n",
       "      <td>0</td>\n",
       "    </tr>\n",
       "    <tr>\n",
       "      <th>3</th>\n",
       "      <td>1602730980000</td>\n",
       "      <td>51.999</td>\n",
       "      <td>52.0</td>\n",
       "      <td>50.665</td>\n",
       "      <td>51.736</td>\n",
       "      <td>205.109</td>\n",
       "      <td>1602731039999</td>\n",
       "      <td>10594.203061</td>\n",
       "      <td>68</td>\n",
       "      <td>78.099</td>\n",
       "      <td>4043.744534</td>\n",
       "      <td>0</td>\n",
       "    </tr>\n",
       "    <tr>\n",
       "      <th>4</th>\n",
       "      <td>1602731040000</td>\n",
       "      <td>51.742</td>\n",
       "      <td>51.776</td>\n",
       "      <td>51.5</td>\n",
       "      <td>51.632</td>\n",
       "      <td>310.324</td>\n",
       "      <td>1602731099999</td>\n",
       "      <td>16011.251406</td>\n",
       "      <td>44</td>\n",
       "      <td>174.396</td>\n",
       "      <td>9004.233218</td>\n",
       "      <td>0</td>\n",
       "    </tr>\n",
       "    <tr>\n",
       "      <th>...</th>\n",
       "      <td>...</td>\n",
       "      <td>...</td>\n",
       "      <td>...</td>\n",
       "      <td>...</td>\n",
       "      <td>...</td>\n",
       "      <td>...</td>\n",
       "      <td>...</td>\n",
       "      <td>...</td>\n",
       "      <td>...</td>\n",
       "      <td>...</td>\n",
       "      <td>...</td>\n",
       "      <td>...</td>\n",
       "    </tr>\n",
       "    <tr>\n",
       "      <th>24295</th>\n",
       "      <td>1604188500000</td>\n",
       "      <td>29.754</td>\n",
       "      <td>29.754</td>\n",
       "      <td>29.754</td>\n",
       "      <td>29.754</td>\n",
       "      <td>0.0</td>\n",
       "      <td>1604188559999</td>\n",
       "      <td>0.0</td>\n",
       "      <td>0</td>\n",
       "      <td>0.0</td>\n",
       "      <td>0.0</td>\n",
       "      <td>0</td>\n",
       "    </tr>\n",
       "    <tr>\n",
       "      <th>24296</th>\n",
       "      <td>1604188560000</td>\n",
       "      <td>29.754</td>\n",
       "      <td>29.754</td>\n",
       "      <td>29.754</td>\n",
       "      <td>29.754</td>\n",
       "      <td>0.0</td>\n",
       "      <td>1604188619999</td>\n",
       "      <td>0.0</td>\n",
       "      <td>0</td>\n",
       "      <td>0.0</td>\n",
       "      <td>0.0</td>\n",
       "      <td>0</td>\n",
       "    </tr>\n",
       "    <tr>\n",
       "      <th>24297</th>\n",
       "      <td>1604188620000</td>\n",
       "      <td>29.7</td>\n",
       "      <td>29.7</td>\n",
       "      <td>29.7</td>\n",
       "      <td>29.7</td>\n",
       "      <td>1.0</td>\n",
       "      <td>1604188679999</td>\n",
       "      <td>29.7</td>\n",
       "      <td>1</td>\n",
       "      <td>1.0</td>\n",
       "      <td>29.7</td>\n",
       "      <td>0</td>\n",
       "    </tr>\n",
       "    <tr>\n",
       "      <th>24298</th>\n",
       "      <td>1604188680000</td>\n",
       "      <td>29.7</td>\n",
       "      <td>29.7</td>\n",
       "      <td>29.7</td>\n",
       "      <td>29.7</td>\n",
       "      <td>0.0</td>\n",
       "      <td>1604188739999</td>\n",
       "      <td>0.0</td>\n",
       "      <td>0</td>\n",
       "      <td>0.0</td>\n",
       "      <td>0.0</td>\n",
       "      <td>0</td>\n",
       "    </tr>\n",
       "    <tr>\n",
       "      <th>24299</th>\n",
       "      <td>1604188740000</td>\n",
       "      <td>29.7</td>\n",
       "      <td>29.7</td>\n",
       "      <td>29.7</td>\n",
       "      <td>29.7</td>\n",
       "      <td>0.0</td>\n",
       "      <td>1604188799999</td>\n",
       "      <td>0.0</td>\n",
       "      <td>0</td>\n",
       "      <td>0.0</td>\n",
       "      <td>0.0</td>\n",
       "      <td>0</td>\n",
       "    </tr>\n",
       "  </tbody>\n",
       "</table>\n",
       "<p>24300 rows × 12 columns</p>\n",
       "</div>"
      ],
      "text/plain": [
       "           open_time         open         high          low        close  \\\n",
       "0      1602730800000  51.43000000  59.00000000  50.66600000  55.60700000   \n",
       "1      1602730860000       55.603       55.623         52.0       52.845   \n",
       "2      1602730920000       52.845       52.846       51.283       51.999   \n",
       "3      1602730980000       51.999         52.0       50.665       51.736   \n",
       "4      1602731040000       51.742       51.776         51.5       51.632   \n",
       "...              ...          ...          ...          ...          ...   \n",
       "24295  1604188500000       29.754       29.754       29.754       29.754   \n",
       "24296  1604188560000       29.754       29.754       29.754       29.754   \n",
       "24297  1604188620000         29.7         29.7         29.7         29.7   \n",
       "24298  1604188680000         29.7         29.7         29.7         29.7   \n",
       "24299  1604188740000         29.7         29.7         29.7         29.7   \n",
       "\n",
       "              volume     close_time quote_asset_volume count  \\\n",
       "0      1369.48100000  1602730859999     75607.77901300   361   \n",
       "1           1120.278  1602730919999       59696.689968   178   \n",
       "2            466.672  1602730979999        24288.12284    94   \n",
       "3            205.109  1602731039999       10594.203061    68   \n",
       "4            310.324  1602731099999       16011.251406    44   \n",
       "...              ...            ...                ...   ...   \n",
       "24295            0.0  1604188559999                0.0     0   \n",
       "24296            0.0  1604188619999                0.0     0   \n",
       "24297            1.0  1604188679999               29.7     1   \n",
       "24298            0.0  1604188739999                0.0     0   \n",
       "24299            0.0  1604188799999                0.0     0   \n",
       "\n",
       "      taker_buy_base_asset_volume taker_buy_quote_asset_volume ignore  \n",
       "0                    898.43400000               50012.70048000      0  \n",
       "1                         658.949                 35330.288555      0  \n",
       "2                         185.675                  9659.760008      0  \n",
       "3                          78.099                  4043.744534      0  \n",
       "4                         174.396                  9004.233218      0  \n",
       "...                           ...                          ...    ...  \n",
       "24295                         0.0                          0.0      0  \n",
       "24296                         0.0                          0.0      0  \n",
       "24297                         1.0                         29.7      0  \n",
       "24298                         0.0                          0.0      0  \n",
       "24299                         0.0                          0.0      0  \n",
       "\n",
       "[24300 rows x 12 columns]"
      ]
     },
     "execution_count": 29,
     "metadata": {},
     "output_type": "execute_result"
    }
   ],
   "source": [
    "test = pd.read_parquet(r'C:\\Users\\ReinisFals\\OneDrive - Peero, SIA\\Desktop\\stat_arb_research\\stat_arb_research\\data\\A_MERGEABLE\\AAVE\\AAVEUSDT-1m-2020-10.parquet')\n",
    "test"
   ]
  },
  {
   "cell_type": "code",
   "execution_count": 30,
   "metadata": {},
   "outputs": [
    {
     "name": "stdout",
     "output_type": "stream",
     "text": [
      "<class 'pandas.core.frame.DataFrame'>\n",
      "Int64Index: 24300 entries, 0 to 24299\n",
      "Data columns (total 12 columns):\n",
      " #   Column                        Non-Null Count  Dtype \n",
      "---  ------                        --------------  ----- \n",
      " 0   open_time                     24300 non-null  object\n",
      " 1   open                          24300 non-null  object\n",
      " 2   high                          24300 non-null  object\n",
      " 3   low                           24300 non-null  object\n",
      " 4   close                         24300 non-null  object\n",
      " 5   volume                        24300 non-null  object\n",
      " 6   close_time                    24300 non-null  object\n",
      " 7   quote_asset_volume            24300 non-null  object\n",
      " 8   count                         24300 non-null  object\n",
      " 9   taker_buy_base_asset_volume   24300 non-null  object\n",
      " 10  taker_buy_quote_asset_volume  24300 non-null  object\n",
      " 11  ignore                        24300 non-null  object\n",
      "dtypes: object(12)\n",
      "memory usage: 2.4+ MB\n"
     ]
    }
   ],
   "source": [
    "test.info()"
   ]
  },
  {
   "cell_type": "markdown",
   "metadata": {},
   "source": [
    "## Concatenate all .parquet files into one for each coin"
   ]
  },
  {
   "cell_type": "code",
   "execution_count": 5,
   "metadata": {},
   "outputs": [],
   "source": [
    "folder_path = 'C:/Users/ReinisFals/OneDrive - Peero, SIA/Desktop/stat_arb_research/stat_arb_research/data/A_MERGEABLE/'"
   ]
  },
  {
   "cell_type": "code",
   "execution_count": 31,
   "metadata": {},
   "outputs": [],
   "source": [
    "# Function to concatenate parquet files in a folder\n",
    "def concatenate_parquet_files(folder_path, output_file):\n",
    "    dfs = []  # List to store DataFrames from each file\n",
    "    \n",
    "    for file in os.listdir(folder_path):\n",
    "        if file.endswith('.parquet'):\n",
    "            file_path = os.path.join(folder_path, file)\n",
    "            df = pd.read_parquet(file_path)\n",
    "            dfs.append(df)\n",
    "    \n",
    "    combined_df = pd.concat(dfs, ignore_index=True)\n",
    "    \n",
    "    # Save the combined DataFrame to a new parquet file\n",
    "    combined_df.to_parquet(output_file)\n",
    "    print(f\"Concatenated files saved to: {output_file}\")\n",
    "\n",
    "# Function to process all folders\n",
    "def process_folders_v2(main_folder_path):\n",
    "    for folder in os.listdir(main_folder_path):\n",
    "        folder_path = os.path.join(main_folder_path, folder)\n",
    "        \n",
    "        if os.path.isdir(folder_path):\n",
    "            output_file = os.path.join(folder_path, f\"{folder}_combined.parquet\")\n",
    "            concatenate_parquet_files(folder_path, output_file)"
   ]
  },
  {
   "cell_type": "code",
   "execution_count": 32,
   "metadata": {},
   "outputs": [],
   "source": [
    "folder_path = 'C:/Users/ReinisFals/OneDrive - Peero, SIA/Desktop/stat_arb_research/stat_arb_research/data/A_MERGEABLE/'"
   ]
  },
  {
   "cell_type": "code",
   "execution_count": 33,
   "metadata": {},
   "outputs": [
    {
     "name": "stdout",
     "output_type": "stream",
     "text": [
      "Concatenated files saved to: C:/Users/ReinisFals/OneDrive - Peero, SIA/Desktop/stat_arb_research/stat_arb_research/data/A_MERGEABLE/AAVE\\AAVE_combined.parquet\n",
      "Concatenated files saved to: C:/Users/ReinisFals/OneDrive - Peero, SIA/Desktop/stat_arb_research/stat_arb_research/data/A_MERGEABLE/ADA\\ADA_combined.parquet\n",
      "Concatenated files saved to: C:/Users/ReinisFals/OneDrive - Peero, SIA/Desktop/stat_arb_research/stat_arb_research/data/A_MERGEABLE/ALGO\\ALGO_combined.parquet\n",
      "Concatenated files saved to: C:/Users/ReinisFals/OneDrive - Peero, SIA/Desktop/stat_arb_research/stat_arb_research/data/A_MERGEABLE/APE\\APE_combined.parquet\n",
      "Concatenated files saved to: C:/Users/ReinisFals/OneDrive - Peero, SIA/Desktop/stat_arb_research/stat_arb_research/data/A_MERGEABLE/APT\\APT_combined.parquet\n",
      "Concatenated files saved to: C:/Users/ReinisFals/OneDrive - Peero, SIA/Desktop/stat_arb_research/stat_arb_research/data/A_MERGEABLE/ARB\\ARB_combined.parquet\n",
      "Concatenated files saved to: C:/Users/ReinisFals/OneDrive - Peero, SIA/Desktop/stat_arb_research/stat_arb_research/data/A_MERGEABLE/ATOM\\ATOM_combined.parquet\n",
      "Concatenated files saved to: C:/Users/ReinisFals/OneDrive - Peero, SIA/Desktop/stat_arb_research/stat_arb_research/data/A_MERGEABLE/AVAX\\AVAX_combined.parquet\n",
      "Concatenated files saved to: C:/Users/ReinisFals/OneDrive - Peero, SIA/Desktop/stat_arb_research/stat_arb_research/data/A_MERGEABLE/AXS\\AXS_combined.parquet\n",
      "Concatenated files saved to: C:/Users/ReinisFals/OneDrive - Peero, SIA/Desktop/stat_arb_research/stat_arb_research/data/A_MERGEABLE/BCH\\BCH_combined.parquet\n",
      "Concatenated files saved to: C:/Users/ReinisFals/OneDrive - Peero, SIA/Desktop/stat_arb_research/stat_arb_research/data/A_MERGEABLE/BNB\\BNB_combined.parquet\n",
      "Concatenated files saved to: C:/Users/ReinisFals/OneDrive - Peero, SIA/Desktop/stat_arb_research/stat_arb_research/data/A_MERGEABLE/BTC\\BTC_combined.parquet\n",
      "Concatenated files saved to: C:/Users/ReinisFals/OneDrive - Peero, SIA/Desktop/stat_arb_research/stat_arb_research/data/A_MERGEABLE/CAKE\\CAKE_combined.parquet\n",
      "Concatenated files saved to: C:/Users/ReinisFals/OneDrive - Peero, SIA/Desktop/stat_arb_research/stat_arb_research/data/A_MERGEABLE/CRV\\CRV_combined.parquet\n",
      "Concatenated files saved to: C:/Users/ReinisFals/OneDrive - Peero, SIA/Desktop/stat_arb_research/stat_arb_research/data/A_MERGEABLE/DOGE\\DOGE_combined.parquet\n",
      "Concatenated files saved to: C:/Users/ReinisFals/OneDrive - Peero, SIA/Desktop/stat_arb_research/stat_arb_research/data/A_MERGEABLE/DOT\\DOT_combined.parquet\n",
      "Concatenated files saved to: C:/Users/ReinisFals/OneDrive - Peero, SIA/Desktop/stat_arb_research/stat_arb_research/data/A_MERGEABLE/DYDX\\DYDX_combined.parquet\n",
      "Concatenated files saved to: C:/Users/ReinisFals/OneDrive - Peero, SIA/Desktop/stat_arb_research/stat_arb_research/data/A_MERGEABLE/EGLD\\EGLD_combined.parquet\n",
      "Concatenated files saved to: C:/Users/ReinisFals/OneDrive - Peero, SIA/Desktop/stat_arb_research/stat_arb_research/data/A_MERGEABLE/EOS\\EOS_combined.parquet\n",
      "Concatenated files saved to: C:/Users/ReinisFals/OneDrive - Peero, SIA/Desktop/stat_arb_research/stat_arb_research/data/A_MERGEABLE/ETC\\ETC_combined.parquet\n",
      "Concatenated files saved to: C:/Users/ReinisFals/OneDrive - Peero, SIA/Desktop/stat_arb_research/stat_arb_research/data/A_MERGEABLE/ETH\\ETH_combined.parquet\n",
      "Concatenated files saved to: C:/Users/ReinisFals/OneDrive - Peero, SIA/Desktop/stat_arb_research/stat_arb_research/data/A_MERGEABLE/FIL\\FIL_combined.parquet\n",
      "Concatenated files saved to: C:/Users/ReinisFals/OneDrive - Peero, SIA/Desktop/stat_arb_research/stat_arb_research/data/A_MERGEABLE/FLOW\\FLOW_combined.parquet\n",
      "Concatenated files saved to: C:/Users/ReinisFals/OneDrive - Peero, SIA/Desktop/stat_arb_research/stat_arb_research/data/A_MERGEABLE/FTM\\FTM_combined.parquet\n",
      "Concatenated files saved to: C:/Users/ReinisFals/OneDrive - Peero, SIA/Desktop/stat_arb_research/stat_arb_research/data/A_MERGEABLE/GALA\\GALA_combined.parquet\n",
      "Concatenated files saved to: C:/Users/ReinisFals/OneDrive - Peero, SIA/Desktop/stat_arb_research/stat_arb_research/data/A_MERGEABLE/GRT\\GRT_combined.parquet\n",
      "Concatenated files saved to: C:/Users/ReinisFals/OneDrive - Peero, SIA/Desktop/stat_arb_research/stat_arb_research/data/A_MERGEABLE/HBAR\\HBAR_combined.parquet\n",
      "Concatenated files saved to: C:/Users/ReinisFals/OneDrive - Peero, SIA/Desktop/stat_arb_research/stat_arb_research/data/A_MERGEABLE/ICP\\ICP_combined.parquet\n",
      "Concatenated files saved to: C:/Users/ReinisFals/OneDrive - Peero, SIA/Desktop/stat_arb_research/stat_arb_research/data/A_MERGEABLE/IMX\\IMX_combined.parquet\n",
      "Concatenated files saved to: C:/Users/ReinisFals/OneDrive - Peero, SIA/Desktop/stat_arb_research/stat_arb_research/data/A_MERGEABLE/INJ\\INJ_combined.parquet\n",
      "Concatenated files saved to: C:/Users/ReinisFals/OneDrive - Peero, SIA/Desktop/stat_arb_research/stat_arb_research/data/A_MERGEABLE/LDO\\LDO_combined.parquet\n",
      "Concatenated files saved to: C:/Users/ReinisFals/OneDrive - Peero, SIA/Desktop/stat_arb_research/stat_arb_research/data/A_MERGEABLE/LINK\\LINK_combined.parquet\n",
      "Concatenated files saved to: C:/Users/ReinisFals/OneDrive - Peero, SIA/Desktop/stat_arb_research/stat_arb_research/data/A_MERGEABLE/LTC\\LTC_combined.parquet\n",
      "Concatenated files saved to: C:/Users/ReinisFals/OneDrive - Peero, SIA/Desktop/stat_arb_research/stat_arb_research/data/A_MERGEABLE/MAGIC\\MAGIC_combined.parquet\n",
      "Concatenated files saved to: C:/Users/ReinisFals/OneDrive - Peero, SIA/Desktop/stat_arb_research/stat_arb_research/data/A_MERGEABLE/MANA\\MANA_combined.parquet\n",
      "Concatenated files saved to: C:/Users/ReinisFals/OneDrive - Peero, SIA/Desktop/stat_arb_research/stat_arb_research/data/A_MERGEABLE/MATIC\\MATIC_combined.parquet\n",
      "Concatenated files saved to: C:/Users/ReinisFals/OneDrive - Peero, SIA/Desktop/stat_arb_research/stat_arb_research/data/A_MERGEABLE/MKR\\MKR_combined.parquet\n",
      "Concatenated files saved to: C:/Users/ReinisFals/OneDrive - Peero, SIA/Desktop/stat_arb_research/stat_arb_research/data/A_MERGEABLE/NEAR\\NEAR_combined.parquet\n",
      "Concatenated files saved to: C:/Users/ReinisFals/OneDrive - Peero, SIA/Desktop/stat_arb_research/stat_arb_research/data/A_MERGEABLE/NEO\\NEO_combined.parquet\n",
      "Concatenated files saved to: C:/Users/ReinisFals/OneDrive - Peero, SIA/Desktop/stat_arb_research/stat_arb_research/data/A_MERGEABLE/OP\\OP_combined.parquet\n",
      "Concatenated files saved to: C:/Users/ReinisFals/OneDrive - Peero, SIA/Desktop/stat_arb_research/stat_arb_research/data/A_MERGEABLE/QNT\\QNT_combined.parquet\n",
      "Concatenated files saved to: C:/Users/ReinisFals/OneDrive - Peero, SIA/Desktop/stat_arb_research/stat_arb_research/data/A_MERGEABLE/RNDR\\RNDR_combined.parquet\n",
      "Concatenated files saved to: C:/Users/ReinisFals/OneDrive - Peero, SIA/Desktop/stat_arb_research/stat_arb_research/data/A_MERGEABLE/RPL\\RPL_combined.parquet\n",
      "Concatenated files saved to: C:/Users/ReinisFals/OneDrive - Peero, SIA/Desktop/stat_arb_research/stat_arb_research/data/A_MERGEABLE/SAND\\SAND_combined.parquet\n",
      "Concatenated files saved to: C:/Users/ReinisFals/OneDrive - Peero, SIA/Desktop/stat_arb_research/stat_arb_research/data/A_MERGEABLE/SHIB\\SHIB_combined.parquet\n",
      "Concatenated files saved to: C:/Users/ReinisFals/OneDrive - Peero, SIA/Desktop/stat_arb_research/stat_arb_research/data/A_MERGEABLE/SOL\\SOL_combined.parquet\n",
      "Concatenated files saved to: C:/Users/ReinisFals/OneDrive - Peero, SIA/Desktop/stat_arb_research/stat_arb_research/data/A_MERGEABLE/STX\\STX_combined.parquet\n",
      "Concatenated files saved to: C:/Users/ReinisFals/OneDrive - Peero, SIA/Desktop/stat_arb_research/stat_arb_research/data/A_MERGEABLE/THETA\\THETA_combined.parquet\n",
      "Concatenated files saved to: C:/Users/ReinisFals/OneDrive - Peero, SIA/Desktop/stat_arb_research/stat_arb_research/data/A_MERGEABLE/TRX\\TRX_combined.parquet\n",
      "Concatenated files saved to: C:/Users/ReinisFals/OneDrive - Peero, SIA/Desktop/stat_arb_research/stat_arb_research/data/A_MERGEABLE/UNI\\UNI_combined.parquet\n",
      "Concatenated files saved to: C:/Users/ReinisFals/OneDrive - Peero, SIA/Desktop/stat_arb_research/stat_arb_research/data/A_MERGEABLE/VET\\VET_combined.parquet\n",
      "Concatenated files saved to: C:/Users/ReinisFals/OneDrive - Peero, SIA/Desktop/stat_arb_research/stat_arb_research/data/A_MERGEABLE/XEC\\XEC_combined.parquet\n",
      "Concatenated files saved to: C:/Users/ReinisFals/OneDrive - Peero, SIA/Desktop/stat_arb_research/stat_arb_research/data/A_MERGEABLE/XLM\\XLM_combined.parquet\n",
      "Concatenated files saved to: C:/Users/ReinisFals/OneDrive - Peero, SIA/Desktop/stat_arb_research/stat_arb_research/data/A_MERGEABLE/XMR\\XMR_combined.parquet\n",
      "Concatenated files saved to: C:/Users/ReinisFals/OneDrive - Peero, SIA/Desktop/stat_arb_research/stat_arb_research/data/A_MERGEABLE/XRP\\XRP_combined.parquet\n",
      "Concatenated files saved to: C:/Users/ReinisFals/OneDrive - Peero, SIA/Desktop/stat_arb_research/stat_arb_research/data/A_MERGEABLE/XTZ\\XTZ_combined.parquet\n"
     ]
    }
   ],
   "source": [
    "process_folders_v2(folder_path)"
   ]
  },
  {
   "cell_type": "code",
   "execution_count": 34,
   "metadata": {},
   "outputs": [
    {
     "data": {
      "text/html": [
       "<div>\n",
       "<style scoped>\n",
       "    .dataframe tbody tr th:only-of-type {\n",
       "        vertical-align: middle;\n",
       "    }\n",
       "\n",
       "    .dataframe tbody tr th {\n",
       "        vertical-align: top;\n",
       "    }\n",
       "\n",
       "    .dataframe thead th {\n",
       "        text-align: right;\n",
       "    }\n",
       "</style>\n",
       "<table border=\"1\" class=\"dataframe\">\n",
       "  <thead>\n",
       "    <tr style=\"text-align: right;\">\n",
       "      <th></th>\n",
       "      <th>open_time</th>\n",
       "      <th>open</th>\n",
       "      <th>high</th>\n",
       "      <th>low</th>\n",
       "      <th>close</th>\n",
       "      <th>volume</th>\n",
       "      <th>close_time</th>\n",
       "      <th>quote_asset_volume</th>\n",
       "      <th>count</th>\n",
       "      <th>taker_buy_base_asset_volume</th>\n",
       "      <th>taker_buy_quote_asset_volume</th>\n",
       "      <th>ignore</th>\n",
       "    </tr>\n",
       "  </thead>\n",
       "  <tbody>\n",
       "    <tr>\n",
       "      <th>0</th>\n",
       "      <td>1602730800000</td>\n",
       "      <td>51.43000000</td>\n",
       "      <td>59.00000000</td>\n",
       "      <td>50.66600000</td>\n",
       "      <td>55.60700000</td>\n",
       "      <td>1369.48100000</td>\n",
       "      <td>1602730859999</td>\n",
       "      <td>75607.77901300</td>\n",
       "      <td>361</td>\n",
       "      <td>898.43400000</td>\n",
       "      <td>50012.70048000</td>\n",
       "      <td>0</td>\n",
       "    </tr>\n",
       "    <tr>\n",
       "      <th>1</th>\n",
       "      <td>1602730860000</td>\n",
       "      <td>55.603</td>\n",
       "      <td>55.623</td>\n",
       "      <td>52.0</td>\n",
       "      <td>52.845</td>\n",
       "      <td>1120.278</td>\n",
       "      <td>1602730919999</td>\n",
       "      <td>59696.689968</td>\n",
       "      <td>178</td>\n",
       "      <td>658.949</td>\n",
       "      <td>35330.288555</td>\n",
       "      <td>0</td>\n",
       "    </tr>\n",
       "    <tr>\n",
       "      <th>2</th>\n",
       "      <td>1602730920000</td>\n",
       "      <td>52.845</td>\n",
       "      <td>52.846</td>\n",
       "      <td>51.283</td>\n",
       "      <td>51.999</td>\n",
       "      <td>466.672</td>\n",
       "      <td>1602730979999</td>\n",
       "      <td>24288.12284</td>\n",
       "      <td>94</td>\n",
       "      <td>185.675</td>\n",
       "      <td>9659.760008</td>\n",
       "      <td>0</td>\n",
       "    </tr>\n",
       "    <tr>\n",
       "      <th>3</th>\n",
       "      <td>1602730980000</td>\n",
       "      <td>51.999</td>\n",
       "      <td>52.0</td>\n",
       "      <td>50.665</td>\n",
       "      <td>51.736</td>\n",
       "      <td>205.109</td>\n",
       "      <td>1602731039999</td>\n",
       "      <td>10594.203061</td>\n",
       "      <td>68</td>\n",
       "      <td>78.099</td>\n",
       "      <td>4043.744534</td>\n",
       "      <td>0</td>\n",
       "    </tr>\n",
       "    <tr>\n",
       "      <th>4</th>\n",
       "      <td>1602731040000</td>\n",
       "      <td>51.742</td>\n",
       "      <td>51.776</td>\n",
       "      <td>51.5</td>\n",
       "      <td>51.632</td>\n",
       "      <td>310.324</td>\n",
       "      <td>1602731099999</td>\n",
       "      <td>16011.251406</td>\n",
       "      <td>44</td>\n",
       "      <td>174.396</td>\n",
       "      <td>9004.233218</td>\n",
       "      <td>0</td>\n",
       "    </tr>\n",
       "    <tr>\n",
       "      <th>...</th>\n",
       "      <td>...</td>\n",
       "      <td>...</td>\n",
       "      <td>...</td>\n",
       "      <td>...</td>\n",
       "      <td>...</td>\n",
       "      <td>...</td>\n",
       "      <td>...</td>\n",
       "      <td>...</td>\n",
       "      <td>...</td>\n",
       "      <td>...</td>\n",
       "      <td>...</td>\n",
       "      <td>...</td>\n",
       "    </tr>\n",
       "    <tr>\n",
       "      <th>1422551</th>\n",
       "      <td>1688169300000</td>\n",
       "      <td>70.42</td>\n",
       "      <td>70.48</td>\n",
       "      <td>70.35</td>\n",
       "      <td>70.45</td>\n",
       "      <td>137.566</td>\n",
       "      <td>1688169359999</td>\n",
       "      <td>9687.04126</td>\n",
       "      <td>47</td>\n",
       "      <td>48.426</td>\n",
       "      <td>3410.25362</td>\n",
       "      <td>0</td>\n",
       "    </tr>\n",
       "    <tr>\n",
       "      <th>1422552</th>\n",
       "      <td>1688169360000</td>\n",
       "      <td>70.45</td>\n",
       "      <td>70.49</td>\n",
       "      <td>70.38</td>\n",
       "      <td>70.38</td>\n",
       "      <td>82.083</td>\n",
       "      <td>1688169419999</td>\n",
       "      <td>5783.08829</td>\n",
       "      <td>24</td>\n",
       "      <td>0.349</td>\n",
       "      <td>24.59543</td>\n",
       "      <td>0</td>\n",
       "    </tr>\n",
       "    <tr>\n",
       "      <th>1422553</th>\n",
       "      <td>1688169420000</td>\n",
       "      <td>70.38</td>\n",
       "      <td>70.41</td>\n",
       "      <td>70.38</td>\n",
       "      <td>70.4</td>\n",
       "      <td>85.018</td>\n",
       "      <td>1688169479999</td>\n",
       "      <td>5984.9842</td>\n",
       "      <td>25</td>\n",
       "      <td>28.818</td>\n",
       "      <td>2028.6072</td>\n",
       "      <td>0</td>\n",
       "    </tr>\n",
       "    <tr>\n",
       "      <th>1422554</th>\n",
       "      <td>1688169480000</td>\n",
       "      <td>70.42</td>\n",
       "      <td>70.45</td>\n",
       "      <td>70.42</td>\n",
       "      <td>70.43</td>\n",
       "      <td>37.615</td>\n",
       "      <td>1688169539999</td>\n",
       "      <td>2649.34654</td>\n",
       "      <td>11</td>\n",
       "      <td>5.506</td>\n",
       "      <td>387.84056</td>\n",
       "      <td>0</td>\n",
       "    </tr>\n",
       "    <tr>\n",
       "      <th>1422555</th>\n",
       "      <td>1688169540000</td>\n",
       "      <td>70.44</td>\n",
       "      <td>70.54</td>\n",
       "      <td>70.44</td>\n",
       "      <td>70.54</td>\n",
       "      <td>71.723</td>\n",
       "      <td>1688169599999</td>\n",
       "      <td>5055.80922</td>\n",
       "      <td>21</td>\n",
       "      <td>33.072</td>\n",
       "      <td>2330.7768</td>\n",
       "      <td>0</td>\n",
       "    </tr>\n",
       "  </tbody>\n",
       "</table>\n",
       "<p>1422556 rows × 12 columns</p>\n",
       "</div>"
      ],
      "text/plain": [
       "             open_time         open         high          low        close  \\\n",
       "0        1602730800000  51.43000000  59.00000000  50.66600000  55.60700000   \n",
       "1        1602730860000       55.603       55.623         52.0       52.845   \n",
       "2        1602730920000       52.845       52.846       51.283       51.999   \n",
       "3        1602730980000       51.999         52.0       50.665       51.736   \n",
       "4        1602731040000       51.742       51.776         51.5       51.632   \n",
       "...                ...          ...          ...          ...          ...   \n",
       "1422551  1688169300000        70.42        70.48        70.35        70.45   \n",
       "1422552  1688169360000        70.45        70.49        70.38        70.38   \n",
       "1422553  1688169420000        70.38        70.41        70.38         70.4   \n",
       "1422554  1688169480000        70.42        70.45        70.42        70.43   \n",
       "1422555  1688169540000        70.44        70.54        70.44        70.54   \n",
       "\n",
       "                volume     close_time quote_asset_volume count  \\\n",
       "0        1369.48100000  1602730859999     75607.77901300   361   \n",
       "1             1120.278  1602730919999       59696.689968   178   \n",
       "2              466.672  1602730979999        24288.12284    94   \n",
       "3              205.109  1602731039999       10594.203061    68   \n",
       "4              310.324  1602731099999       16011.251406    44   \n",
       "...                ...            ...                ...   ...   \n",
       "1422551        137.566  1688169359999         9687.04126    47   \n",
       "1422552         82.083  1688169419999         5783.08829    24   \n",
       "1422553         85.018  1688169479999          5984.9842    25   \n",
       "1422554         37.615  1688169539999         2649.34654    11   \n",
       "1422555         71.723  1688169599999         5055.80922    21   \n",
       "\n",
       "        taker_buy_base_asset_volume taker_buy_quote_asset_volume ignore  \n",
       "0                      898.43400000               50012.70048000      0  \n",
       "1                           658.949                 35330.288555      0  \n",
       "2                           185.675                  9659.760008      0  \n",
       "3                            78.099                  4043.744534      0  \n",
       "4                           174.396                  9004.233218      0  \n",
       "...                             ...                          ...    ...  \n",
       "1422551                      48.426                   3410.25362      0  \n",
       "1422552                       0.349                     24.59543      0  \n",
       "1422553                      28.818                    2028.6072      0  \n",
       "1422554                       5.506                    387.84056      0  \n",
       "1422555                      33.072                    2330.7768      0  \n",
       "\n",
       "[1422556 rows x 12 columns]"
      ]
     },
     "execution_count": 34,
     "metadata": {},
     "output_type": "execute_result"
    }
   ],
   "source": [
    "test = pd.read_parquet(r'C:\\Users\\ReinisFals\\OneDrive - Peero, SIA\\Desktop\\stat_arb_research\\stat_arb_research\\data\\A_MERGEABLE\\AAVE\\AAVE_combined.parquet')\n",
    "test"
   ]
  },
  {
   "cell_type": "code",
   "execution_count": 35,
   "metadata": {},
   "outputs": [
    {
     "data": {
      "text/html": [
       "<div>\n",
       "<style scoped>\n",
       "    .dataframe tbody tr th:only-of-type {\n",
       "        vertical-align: middle;\n",
       "    }\n",
       "\n",
       "    .dataframe tbody tr th {\n",
       "        vertical-align: top;\n",
       "    }\n",
       "\n",
       "    .dataframe thead th {\n",
       "        text-align: right;\n",
       "    }\n",
       "</style>\n",
       "<table border=\"1\" class=\"dataframe\">\n",
       "  <thead>\n",
       "    <tr style=\"text-align: right;\">\n",
       "      <th></th>\n",
       "      <th>open_time</th>\n",
       "      <th>open</th>\n",
       "      <th>high</th>\n",
       "      <th>low</th>\n",
       "      <th>close</th>\n",
       "      <th>volume</th>\n",
       "      <th>close_time</th>\n",
       "      <th>quote_asset_volume</th>\n",
       "      <th>count</th>\n",
       "      <th>taker_buy_base_asset_volume</th>\n",
       "      <th>taker_buy_quote_asset_volume</th>\n",
       "      <th>ignore</th>\n",
       "    </tr>\n",
       "  </thead>\n",
       "  <tbody>\n",
       "    <tr>\n",
       "      <th>0</th>\n",
       "      <td>2020-10-15 03:00:00</td>\n",
       "      <td>51.43000000</td>\n",
       "      <td>59.00000000</td>\n",
       "      <td>50.66600000</td>\n",
       "      <td>55.60700000</td>\n",
       "      <td>1369.48100000</td>\n",
       "      <td>1602730859999</td>\n",
       "      <td>75607.77901300</td>\n",
       "      <td>361</td>\n",
       "      <td>898.43400000</td>\n",
       "      <td>50012.70048000</td>\n",
       "      <td>0</td>\n",
       "    </tr>\n",
       "    <tr>\n",
       "      <th>1</th>\n",
       "      <td>2020-10-15 03:01:00</td>\n",
       "      <td>55.603</td>\n",
       "      <td>55.623</td>\n",
       "      <td>52.0</td>\n",
       "      <td>52.845</td>\n",
       "      <td>1120.278</td>\n",
       "      <td>1602730919999</td>\n",
       "      <td>59696.689968</td>\n",
       "      <td>178</td>\n",
       "      <td>658.949</td>\n",
       "      <td>35330.288555</td>\n",
       "      <td>0</td>\n",
       "    </tr>\n",
       "    <tr>\n",
       "      <th>2</th>\n",
       "      <td>2020-10-15 03:02:00</td>\n",
       "      <td>52.845</td>\n",
       "      <td>52.846</td>\n",
       "      <td>51.283</td>\n",
       "      <td>51.999</td>\n",
       "      <td>466.672</td>\n",
       "      <td>1602730979999</td>\n",
       "      <td>24288.12284</td>\n",
       "      <td>94</td>\n",
       "      <td>185.675</td>\n",
       "      <td>9659.760008</td>\n",
       "      <td>0</td>\n",
       "    </tr>\n",
       "    <tr>\n",
       "      <th>3</th>\n",
       "      <td>2020-10-15 03:03:00</td>\n",
       "      <td>51.999</td>\n",
       "      <td>52.0</td>\n",
       "      <td>50.665</td>\n",
       "      <td>51.736</td>\n",
       "      <td>205.109</td>\n",
       "      <td>1602731039999</td>\n",
       "      <td>10594.203061</td>\n",
       "      <td>68</td>\n",
       "      <td>78.099</td>\n",
       "      <td>4043.744534</td>\n",
       "      <td>0</td>\n",
       "    </tr>\n",
       "    <tr>\n",
       "      <th>4</th>\n",
       "      <td>2020-10-15 03:04:00</td>\n",
       "      <td>51.742</td>\n",
       "      <td>51.776</td>\n",
       "      <td>51.5</td>\n",
       "      <td>51.632</td>\n",
       "      <td>310.324</td>\n",
       "      <td>1602731099999</td>\n",
       "      <td>16011.251406</td>\n",
       "      <td>44</td>\n",
       "      <td>174.396</td>\n",
       "      <td>9004.233218</td>\n",
       "      <td>0</td>\n",
       "    </tr>\n",
       "    <tr>\n",
       "      <th>...</th>\n",
       "      <td>...</td>\n",
       "      <td>...</td>\n",
       "      <td>...</td>\n",
       "      <td>...</td>\n",
       "      <td>...</td>\n",
       "      <td>...</td>\n",
       "      <td>...</td>\n",
       "      <td>...</td>\n",
       "      <td>...</td>\n",
       "      <td>...</td>\n",
       "      <td>...</td>\n",
       "      <td>...</td>\n",
       "    </tr>\n",
       "    <tr>\n",
       "      <th>1422551</th>\n",
       "      <td>2023-06-30 23:55:00</td>\n",
       "      <td>70.42</td>\n",
       "      <td>70.48</td>\n",
       "      <td>70.35</td>\n",
       "      <td>70.45</td>\n",
       "      <td>137.566</td>\n",
       "      <td>1688169359999</td>\n",
       "      <td>9687.04126</td>\n",
       "      <td>47</td>\n",
       "      <td>48.426</td>\n",
       "      <td>3410.25362</td>\n",
       "      <td>0</td>\n",
       "    </tr>\n",
       "    <tr>\n",
       "      <th>1422552</th>\n",
       "      <td>2023-06-30 23:56:00</td>\n",
       "      <td>70.45</td>\n",
       "      <td>70.49</td>\n",
       "      <td>70.38</td>\n",
       "      <td>70.38</td>\n",
       "      <td>82.083</td>\n",
       "      <td>1688169419999</td>\n",
       "      <td>5783.08829</td>\n",
       "      <td>24</td>\n",
       "      <td>0.349</td>\n",
       "      <td>24.59543</td>\n",
       "      <td>0</td>\n",
       "    </tr>\n",
       "    <tr>\n",
       "      <th>1422553</th>\n",
       "      <td>2023-06-30 23:57:00</td>\n",
       "      <td>70.38</td>\n",
       "      <td>70.41</td>\n",
       "      <td>70.38</td>\n",
       "      <td>70.4</td>\n",
       "      <td>85.018</td>\n",
       "      <td>1688169479999</td>\n",
       "      <td>5984.9842</td>\n",
       "      <td>25</td>\n",
       "      <td>28.818</td>\n",
       "      <td>2028.6072</td>\n",
       "      <td>0</td>\n",
       "    </tr>\n",
       "    <tr>\n",
       "      <th>1422554</th>\n",
       "      <td>2023-06-30 23:58:00</td>\n",
       "      <td>70.42</td>\n",
       "      <td>70.45</td>\n",
       "      <td>70.42</td>\n",
       "      <td>70.43</td>\n",
       "      <td>37.615</td>\n",
       "      <td>1688169539999</td>\n",
       "      <td>2649.34654</td>\n",
       "      <td>11</td>\n",
       "      <td>5.506</td>\n",
       "      <td>387.84056</td>\n",
       "      <td>0</td>\n",
       "    </tr>\n",
       "    <tr>\n",
       "      <th>1422555</th>\n",
       "      <td>2023-06-30 23:59:00</td>\n",
       "      <td>70.44</td>\n",
       "      <td>70.54</td>\n",
       "      <td>70.44</td>\n",
       "      <td>70.54</td>\n",
       "      <td>71.723</td>\n",
       "      <td>1688169599999</td>\n",
       "      <td>5055.80922</td>\n",
       "      <td>21</td>\n",
       "      <td>33.072</td>\n",
       "      <td>2330.7768</td>\n",
       "      <td>0</td>\n",
       "    </tr>\n",
       "  </tbody>\n",
       "</table>\n",
       "<p>1422556 rows × 12 columns</p>\n",
       "</div>"
      ],
      "text/plain": [
       "                  open_time         open         high          low  \\\n",
       "0       2020-10-15 03:00:00  51.43000000  59.00000000  50.66600000   \n",
       "1       2020-10-15 03:01:00       55.603       55.623         52.0   \n",
       "2       2020-10-15 03:02:00       52.845       52.846       51.283   \n",
       "3       2020-10-15 03:03:00       51.999         52.0       50.665   \n",
       "4       2020-10-15 03:04:00       51.742       51.776         51.5   \n",
       "...                     ...          ...          ...          ...   \n",
       "1422551 2023-06-30 23:55:00        70.42        70.48        70.35   \n",
       "1422552 2023-06-30 23:56:00        70.45        70.49        70.38   \n",
       "1422553 2023-06-30 23:57:00        70.38        70.41        70.38   \n",
       "1422554 2023-06-30 23:58:00        70.42        70.45        70.42   \n",
       "1422555 2023-06-30 23:59:00        70.44        70.54        70.44   \n",
       "\n",
       "               close         volume     close_time quote_asset_volume count  \\\n",
       "0        55.60700000  1369.48100000  1602730859999     75607.77901300   361   \n",
       "1             52.845       1120.278  1602730919999       59696.689968   178   \n",
       "2             51.999        466.672  1602730979999        24288.12284    94   \n",
       "3             51.736        205.109  1602731039999       10594.203061    68   \n",
       "4             51.632        310.324  1602731099999       16011.251406    44   \n",
       "...              ...            ...            ...                ...   ...   \n",
       "1422551        70.45        137.566  1688169359999         9687.04126    47   \n",
       "1422552        70.38         82.083  1688169419999         5783.08829    24   \n",
       "1422553         70.4         85.018  1688169479999          5984.9842    25   \n",
       "1422554        70.43         37.615  1688169539999         2649.34654    11   \n",
       "1422555        70.54         71.723  1688169599999         5055.80922    21   \n",
       "\n",
       "        taker_buy_base_asset_volume taker_buy_quote_asset_volume ignore  \n",
       "0                      898.43400000               50012.70048000      0  \n",
       "1                           658.949                 35330.288555      0  \n",
       "2                           185.675                  9659.760008      0  \n",
       "3                            78.099                  4043.744534      0  \n",
       "4                           174.396                  9004.233218      0  \n",
       "...                             ...                          ...    ...  \n",
       "1422551                      48.426                   3410.25362      0  \n",
       "1422552                       0.349                     24.59543      0  \n",
       "1422553                      28.818                    2028.6072      0  \n",
       "1422554                       5.506                    387.84056      0  \n",
       "1422555                      33.072                    2330.7768      0  \n",
       "\n",
       "[1422556 rows x 12 columns]"
      ]
     },
     "execution_count": 35,
     "metadata": {},
     "output_type": "execute_result"
    }
   ],
   "source": [
    "# convert open_time to datetime\n",
    "test['open_time'] = pd.to_datetime(test['open_time'], unit='ms')\n",
    "test"
   ]
  },
  {
   "cell_type": "markdown",
   "metadata": {},
   "source": [
    "### Quick check for missing values"
   ]
  },
  {
   "cell_type": "code",
   "execution_count": 36,
   "metadata": {},
   "outputs": [
    {
     "data": {
      "text/plain": [
       "1423979.0"
      ]
     },
     "execution_count": 36,
     "metadata": {},
     "output_type": "execute_result"
    }
   ],
   "source": [
    "minutes = (pd.Timestamp('2023-06-30 23:59:00') - pd.Timestamp('2020-10-15 03:00:00')).total_seconds() / 60\n",
    "minutes"
   ]
  },
  {
   "cell_type": "code",
   "execution_count": 37,
   "metadata": {},
   "outputs": [
    {
     "name": "stdout",
     "output_type": "stream",
     "text": [
      "Number of missing minutes in the dataset: 1423.0\n"
     ]
    }
   ],
   "source": [
    "print(f\"Number of missing minutes in the dataset: {minutes - len(test)}\")"
   ]
  },
  {
   "cell_type": "markdown",
   "metadata": {},
   "source": [
    "## Set Data Types"
   ]
  },
  {
   "cell_type": "code",
   "execution_count": 44,
   "metadata": {},
   "outputs": [],
   "source": [
    "# Function to set data types, drop columns, and set index for a combined parquet file\n",
    "def process_combined_parquet_file(combined_file):\n",
    "    # Read the combined parquet file\n",
    "    df = pd.read_parquet(combined_file)\n",
    "    \n",
    "    # Set 'open_time' column to datetime with unit='ms'\n",
    "    df['open_time'] = pd.to_datetime(df['open_time'], unit='ms')\n",
    "    \n",
    "    # Set rest of the columns to numerical data type\n",
    "    numeric_columns = ['open', 'high', 'low', 'close', 'volume', 'quote_asset_volume',\n",
    "                       'count', 'taker_buy_base_asset_volume', 'taker_buy_quote_asset_volume']\n",
    "    df[numeric_columns] = df[numeric_columns].apply(lambda x: x.str.replace(r'\\.(\\d+)\\.', r'.\\1')) # BUG: volume column sometimes has two dots\n",
    "    df[numeric_columns] = df[numeric_columns].apply(pd.to_numeric)\n",
    "    \n",
    "    # Drop 'close_time' and 'ignore' columns\n",
    "    df.drop(['close_time', 'ignore'], axis=1, inplace=True)\n",
    "    \n",
    "    # Set 'open_time' as the index\n",
    "    df.set_index('open_time', inplace=True)\n",
    "    \n",
    "    # Save the modified DataFrame back to the combined parquet file\n",
    "    df.to_parquet(combined_file)\n",
    "    print(f\"Processed file: {combined_file}\")\n",
    "\n",
    "# Function to process all combined parquet files in each folder\n",
    "def process_folders_v3(main_folder_path):\n",
    "    for folder in os.listdir(main_folder_path):\n",
    "        folder_path = os.path.join(main_folder_path, folder)\n",
    "        \n",
    "        if os.path.isdir(folder_path):\n",
    "            combined_file = os.path.join(folder_path, f\"{folder}_combined.parquet\")\n",
    "            process_combined_parquet_file(combined_file)"
   ]
  },
  {
   "cell_type": "code",
   "execution_count": 45,
   "metadata": {},
   "outputs": [],
   "source": [
    "folder_path = 'C:/Users/ReinisFals/OneDrive - Peero, SIA/Desktop/stat_arb_research/stat_arb_research/data/A_MERGEABLE/'"
   ]
  },
  {
   "cell_type": "code",
   "execution_count": 46,
   "metadata": {},
   "outputs": [
    {
     "name": "stderr",
     "output_type": "stream",
     "text": [
      "C:\\Users\\ReinisFals\\AppData\\Local\\Temp\\ipykernel_14304\\1302393740.py:12: FutureWarning: The default value of regex will change from True to False in a future version.\n",
      "  df[numeric_columns] = df[numeric_columns].apply(lambda x: x.str.replace(r'\\.(\\d+)\\.', r'.\\1'))\n"
     ]
    },
    {
     "name": "stdout",
     "output_type": "stream",
     "text": [
      "Processed file: C:/Users/ReinisFals/OneDrive - Peero, SIA/Desktop/stat_arb_research/stat_arb_research/data/A_MERGEABLE/AAVE\\AAVE_combined.parquet\n"
     ]
    },
    {
     "name": "stderr",
     "output_type": "stream",
     "text": [
      "C:\\Users\\ReinisFals\\AppData\\Local\\Temp\\ipykernel_14304\\1302393740.py:12: FutureWarning: The default value of regex will change from True to False in a future version.\n",
      "  df[numeric_columns] = df[numeric_columns].apply(lambda x: x.str.replace(r'\\.(\\d+)\\.', r'.\\1'))\n"
     ]
    },
    {
     "name": "stdout",
     "output_type": "stream",
     "text": [
      "Processed file: C:/Users/ReinisFals/OneDrive - Peero, SIA/Desktop/stat_arb_research/stat_arb_research/data/A_MERGEABLE/ADA\\ADA_combined.parquet\n"
     ]
    },
    {
     "name": "stderr",
     "output_type": "stream",
     "text": [
      "C:\\Users\\ReinisFals\\AppData\\Local\\Temp\\ipykernel_14304\\1302393740.py:12: FutureWarning: The default value of regex will change from True to False in a future version.\n",
      "  df[numeric_columns] = df[numeric_columns].apply(lambda x: x.str.replace(r'\\.(\\d+)\\.', r'.\\1'))\n"
     ]
    },
    {
     "name": "stdout",
     "output_type": "stream",
     "text": [
      "Processed file: C:/Users/ReinisFals/OneDrive - Peero, SIA/Desktop/stat_arb_research/stat_arb_research/data/A_MERGEABLE/ALGO\\ALGO_combined.parquet\n"
     ]
    },
    {
     "name": "stderr",
     "output_type": "stream",
     "text": [
      "C:\\Users\\ReinisFals\\AppData\\Local\\Temp\\ipykernel_14304\\1302393740.py:12: FutureWarning: The default value of regex will change from True to False in a future version.\n",
      "  df[numeric_columns] = df[numeric_columns].apply(lambda x: x.str.replace(r'\\.(\\d+)\\.', r'.\\1'))\n"
     ]
    },
    {
     "name": "stdout",
     "output_type": "stream",
     "text": [
      "Processed file: C:/Users/ReinisFals/OneDrive - Peero, SIA/Desktop/stat_arb_research/stat_arb_research/data/A_MERGEABLE/APE\\APE_combined.parquet\n"
     ]
    },
    {
     "name": "stderr",
     "output_type": "stream",
     "text": [
      "C:\\Users\\ReinisFals\\AppData\\Local\\Temp\\ipykernel_14304\\1302393740.py:12: FutureWarning: The default value of regex will change from True to False in a future version.\n",
      "  df[numeric_columns] = df[numeric_columns].apply(lambda x: x.str.replace(r'\\.(\\d+)\\.', r'.\\1'))\n"
     ]
    },
    {
     "name": "stdout",
     "output_type": "stream",
     "text": [
      "Processed file: C:/Users/ReinisFals/OneDrive - Peero, SIA/Desktop/stat_arb_research/stat_arb_research/data/A_MERGEABLE/APT\\APT_combined.parquet\n"
     ]
    },
    {
     "name": "stderr",
     "output_type": "stream",
     "text": [
      "C:\\Users\\ReinisFals\\AppData\\Local\\Temp\\ipykernel_14304\\1302393740.py:12: FutureWarning: The default value of regex will change from True to False in a future version.\n",
      "  df[numeric_columns] = df[numeric_columns].apply(lambda x: x.str.replace(r'\\.(\\d+)\\.', r'.\\1'))\n"
     ]
    },
    {
     "name": "stdout",
     "output_type": "stream",
     "text": [
      "Processed file: C:/Users/ReinisFals/OneDrive - Peero, SIA/Desktop/stat_arb_research/stat_arb_research/data/A_MERGEABLE/ARB\\ARB_combined.parquet\n"
     ]
    },
    {
     "name": "stderr",
     "output_type": "stream",
     "text": [
      "C:\\Users\\ReinisFals\\AppData\\Local\\Temp\\ipykernel_14304\\1302393740.py:12: FutureWarning: The default value of regex will change from True to False in a future version.\n",
      "  df[numeric_columns] = df[numeric_columns].apply(lambda x: x.str.replace(r'\\.(\\d+)\\.', r'.\\1'))\n"
     ]
    },
    {
     "name": "stdout",
     "output_type": "stream",
     "text": [
      "Processed file: C:/Users/ReinisFals/OneDrive - Peero, SIA/Desktop/stat_arb_research/stat_arb_research/data/A_MERGEABLE/ATOM\\ATOM_combined.parquet\n"
     ]
    },
    {
     "name": "stderr",
     "output_type": "stream",
     "text": [
      "C:\\Users\\ReinisFals\\AppData\\Local\\Temp\\ipykernel_14304\\1302393740.py:12: FutureWarning: The default value of regex will change from True to False in a future version.\n",
      "  df[numeric_columns] = df[numeric_columns].apply(lambda x: x.str.replace(r'\\.(\\d+)\\.', r'.\\1'))\n"
     ]
    },
    {
     "name": "stdout",
     "output_type": "stream",
     "text": [
      "Processed file: C:/Users/ReinisFals/OneDrive - Peero, SIA/Desktop/stat_arb_research/stat_arb_research/data/A_MERGEABLE/AVAX\\AVAX_combined.parquet\n"
     ]
    },
    {
     "name": "stderr",
     "output_type": "stream",
     "text": [
      "C:\\Users\\ReinisFals\\AppData\\Local\\Temp\\ipykernel_14304\\1302393740.py:12: FutureWarning: The default value of regex will change from True to False in a future version.\n",
      "  df[numeric_columns] = df[numeric_columns].apply(lambda x: x.str.replace(r'\\.(\\d+)\\.', r'.\\1'))\n"
     ]
    },
    {
     "name": "stdout",
     "output_type": "stream",
     "text": [
      "Processed file: C:/Users/ReinisFals/OneDrive - Peero, SIA/Desktop/stat_arb_research/stat_arb_research/data/A_MERGEABLE/AXS\\AXS_combined.parquet\n"
     ]
    },
    {
     "name": "stderr",
     "output_type": "stream",
     "text": [
      "C:\\Users\\ReinisFals\\AppData\\Local\\Temp\\ipykernel_14304\\1302393740.py:12: FutureWarning: The default value of regex will change from True to False in a future version.\n",
      "  df[numeric_columns] = df[numeric_columns].apply(lambda x: x.str.replace(r'\\.(\\d+)\\.', r'.\\1'))\n"
     ]
    },
    {
     "name": "stdout",
     "output_type": "stream",
     "text": [
      "Processed file: C:/Users/ReinisFals/OneDrive - Peero, SIA/Desktop/stat_arb_research/stat_arb_research/data/A_MERGEABLE/BCH\\BCH_combined.parquet\n"
     ]
    },
    {
     "name": "stderr",
     "output_type": "stream",
     "text": [
      "C:\\Users\\ReinisFals\\AppData\\Local\\Temp\\ipykernel_14304\\1302393740.py:12: FutureWarning: The default value of regex will change from True to False in a future version.\n",
      "  df[numeric_columns] = df[numeric_columns].apply(lambda x: x.str.replace(r'\\.(\\d+)\\.', r'.\\1'))\n"
     ]
    },
    {
     "name": "stdout",
     "output_type": "stream",
     "text": [
      "Processed file: C:/Users/ReinisFals/OneDrive - Peero, SIA/Desktop/stat_arb_research/stat_arb_research/data/A_MERGEABLE/BNB\\BNB_combined.parquet\n"
     ]
    },
    {
     "name": "stderr",
     "output_type": "stream",
     "text": [
      "C:\\Users\\ReinisFals\\AppData\\Local\\Temp\\ipykernel_14304\\1302393740.py:12: FutureWarning: The default value of regex will change from True to False in a future version.\n",
      "  df[numeric_columns] = df[numeric_columns].apply(lambda x: x.str.replace(r'\\.(\\d+)\\.', r'.\\1'))\n"
     ]
    },
    {
     "name": "stdout",
     "output_type": "stream",
     "text": [
      "Processed file: C:/Users/ReinisFals/OneDrive - Peero, SIA/Desktop/stat_arb_research/stat_arb_research/data/A_MERGEABLE/BTC\\BTC_combined.parquet\n"
     ]
    },
    {
     "name": "stderr",
     "output_type": "stream",
     "text": [
      "C:\\Users\\ReinisFals\\AppData\\Local\\Temp\\ipykernel_14304\\1302393740.py:12: FutureWarning: The default value of regex will change from True to False in a future version.\n",
      "  df[numeric_columns] = df[numeric_columns].apply(lambda x: x.str.replace(r'\\.(\\d+)\\.', r'.\\1'))\n"
     ]
    },
    {
     "name": "stdout",
     "output_type": "stream",
     "text": [
      "Processed file: C:/Users/ReinisFals/OneDrive - Peero, SIA/Desktop/stat_arb_research/stat_arb_research/data/A_MERGEABLE/CAKE\\CAKE_combined.parquet\n"
     ]
    },
    {
     "name": "stderr",
     "output_type": "stream",
     "text": [
      "C:\\Users\\ReinisFals\\AppData\\Local\\Temp\\ipykernel_14304\\1302393740.py:12: FutureWarning: The default value of regex will change from True to False in a future version.\n",
      "  df[numeric_columns] = df[numeric_columns].apply(lambda x: x.str.replace(r'\\.(\\d+)\\.', r'.\\1'))\n"
     ]
    },
    {
     "name": "stdout",
     "output_type": "stream",
     "text": [
      "Processed file: C:/Users/ReinisFals/OneDrive - Peero, SIA/Desktop/stat_arb_research/stat_arb_research/data/A_MERGEABLE/CRV\\CRV_combined.parquet\n"
     ]
    },
    {
     "name": "stderr",
     "output_type": "stream",
     "text": [
      "C:\\Users\\ReinisFals\\AppData\\Local\\Temp\\ipykernel_14304\\1302393740.py:12: FutureWarning: The default value of regex will change from True to False in a future version.\n",
      "  df[numeric_columns] = df[numeric_columns].apply(lambda x: x.str.replace(r'\\.(\\d+)\\.', r'.\\1'))\n"
     ]
    },
    {
     "name": "stdout",
     "output_type": "stream",
     "text": [
      "Processed file: C:/Users/ReinisFals/OneDrive - Peero, SIA/Desktop/stat_arb_research/stat_arb_research/data/A_MERGEABLE/DOGE\\DOGE_combined.parquet\n"
     ]
    },
    {
     "name": "stderr",
     "output_type": "stream",
     "text": [
      "C:\\Users\\ReinisFals\\AppData\\Local\\Temp\\ipykernel_14304\\1302393740.py:12: FutureWarning: The default value of regex will change from True to False in a future version.\n",
      "  df[numeric_columns] = df[numeric_columns].apply(lambda x: x.str.replace(r'\\.(\\d+)\\.', r'.\\1'))\n"
     ]
    },
    {
     "name": "stdout",
     "output_type": "stream",
     "text": [
      "Processed file: C:/Users/ReinisFals/OneDrive - Peero, SIA/Desktop/stat_arb_research/stat_arb_research/data/A_MERGEABLE/DOT\\DOT_combined.parquet\n"
     ]
    },
    {
     "name": "stderr",
     "output_type": "stream",
     "text": [
      "C:\\Users\\ReinisFals\\AppData\\Local\\Temp\\ipykernel_14304\\1302393740.py:12: FutureWarning: The default value of regex will change from True to False in a future version.\n",
      "  df[numeric_columns] = df[numeric_columns].apply(lambda x: x.str.replace(r'\\.(\\d+)\\.', r'.\\1'))\n"
     ]
    },
    {
     "name": "stdout",
     "output_type": "stream",
     "text": [
      "Processed file: C:/Users/ReinisFals/OneDrive - Peero, SIA/Desktop/stat_arb_research/stat_arb_research/data/A_MERGEABLE/DYDX\\DYDX_combined.parquet\n"
     ]
    },
    {
     "name": "stderr",
     "output_type": "stream",
     "text": [
      "C:\\Users\\ReinisFals\\AppData\\Local\\Temp\\ipykernel_14304\\1302393740.py:12: FutureWarning: The default value of regex will change from True to False in a future version.\n",
      "  df[numeric_columns] = df[numeric_columns].apply(lambda x: x.str.replace(r'\\.(\\d+)\\.', r'.\\1'))\n"
     ]
    },
    {
     "name": "stdout",
     "output_type": "stream",
     "text": [
      "Processed file: C:/Users/ReinisFals/OneDrive - Peero, SIA/Desktop/stat_arb_research/stat_arb_research/data/A_MERGEABLE/EGLD\\EGLD_combined.parquet\n"
     ]
    },
    {
     "name": "stderr",
     "output_type": "stream",
     "text": [
      "C:\\Users\\ReinisFals\\AppData\\Local\\Temp\\ipykernel_14304\\1302393740.py:12: FutureWarning: The default value of regex will change from True to False in a future version.\n",
      "  df[numeric_columns] = df[numeric_columns].apply(lambda x: x.str.replace(r'\\.(\\d+)\\.', r'.\\1'))\n"
     ]
    },
    {
     "name": "stdout",
     "output_type": "stream",
     "text": [
      "Processed file: C:/Users/ReinisFals/OneDrive - Peero, SIA/Desktop/stat_arb_research/stat_arb_research/data/A_MERGEABLE/EOS\\EOS_combined.parquet\n"
     ]
    },
    {
     "name": "stderr",
     "output_type": "stream",
     "text": [
      "C:\\Users\\ReinisFals\\AppData\\Local\\Temp\\ipykernel_14304\\1302393740.py:12: FutureWarning: The default value of regex will change from True to False in a future version.\n",
      "  df[numeric_columns] = df[numeric_columns].apply(lambda x: x.str.replace(r'\\.(\\d+)\\.', r'.\\1'))\n"
     ]
    },
    {
     "name": "stdout",
     "output_type": "stream",
     "text": [
      "Processed file: C:/Users/ReinisFals/OneDrive - Peero, SIA/Desktop/stat_arb_research/stat_arb_research/data/A_MERGEABLE/ETC\\ETC_combined.parquet\n"
     ]
    },
    {
     "name": "stderr",
     "output_type": "stream",
     "text": [
      "C:\\Users\\ReinisFals\\AppData\\Local\\Temp\\ipykernel_14304\\1302393740.py:12: FutureWarning: The default value of regex will change from True to False in a future version.\n",
      "  df[numeric_columns] = df[numeric_columns].apply(lambda x: x.str.replace(r'\\.(\\d+)\\.', r'.\\1'))\n"
     ]
    },
    {
     "name": "stdout",
     "output_type": "stream",
     "text": [
      "Processed file: C:/Users/ReinisFals/OneDrive - Peero, SIA/Desktop/stat_arb_research/stat_arb_research/data/A_MERGEABLE/ETH\\ETH_combined.parquet\n"
     ]
    },
    {
     "name": "stderr",
     "output_type": "stream",
     "text": [
      "C:\\Users\\ReinisFals\\AppData\\Local\\Temp\\ipykernel_14304\\1302393740.py:12: FutureWarning: The default value of regex will change from True to False in a future version.\n",
      "  df[numeric_columns] = df[numeric_columns].apply(lambda x: x.str.replace(r'\\.(\\d+)\\.', r'.\\1'))\n"
     ]
    },
    {
     "name": "stdout",
     "output_type": "stream",
     "text": [
      "Processed file: C:/Users/ReinisFals/OneDrive - Peero, SIA/Desktop/stat_arb_research/stat_arb_research/data/A_MERGEABLE/FIL\\FIL_combined.parquet\n"
     ]
    },
    {
     "name": "stderr",
     "output_type": "stream",
     "text": [
      "C:\\Users\\ReinisFals\\AppData\\Local\\Temp\\ipykernel_14304\\1302393740.py:12: FutureWarning: The default value of regex will change from True to False in a future version.\n",
      "  df[numeric_columns] = df[numeric_columns].apply(lambda x: x.str.replace(r'\\.(\\d+)\\.', r'.\\1'))\n"
     ]
    },
    {
     "name": "stdout",
     "output_type": "stream",
     "text": [
      "Processed file: C:/Users/ReinisFals/OneDrive - Peero, SIA/Desktop/stat_arb_research/stat_arb_research/data/A_MERGEABLE/FLOW\\FLOW_combined.parquet\n"
     ]
    },
    {
     "name": "stderr",
     "output_type": "stream",
     "text": [
      "C:\\Users\\ReinisFals\\AppData\\Local\\Temp\\ipykernel_14304\\1302393740.py:12: FutureWarning: The default value of regex will change from True to False in a future version.\n",
      "  df[numeric_columns] = df[numeric_columns].apply(lambda x: x.str.replace(r'\\.(\\d+)\\.', r'.\\1'))\n"
     ]
    },
    {
     "name": "stdout",
     "output_type": "stream",
     "text": [
      "Processed file: C:/Users/ReinisFals/OneDrive - Peero, SIA/Desktop/stat_arb_research/stat_arb_research/data/A_MERGEABLE/FTM\\FTM_combined.parquet\n"
     ]
    },
    {
     "name": "stderr",
     "output_type": "stream",
     "text": [
      "C:\\Users\\ReinisFals\\AppData\\Local\\Temp\\ipykernel_14304\\1302393740.py:12: FutureWarning: The default value of regex will change from True to False in a future version.\n",
      "  df[numeric_columns] = df[numeric_columns].apply(lambda x: x.str.replace(r'\\.(\\d+)\\.', r'.\\1'))\n"
     ]
    },
    {
     "name": "stdout",
     "output_type": "stream",
     "text": [
      "Processed file: C:/Users/ReinisFals/OneDrive - Peero, SIA/Desktop/stat_arb_research/stat_arb_research/data/A_MERGEABLE/GALA\\GALA_combined.parquet\n"
     ]
    },
    {
     "name": "stderr",
     "output_type": "stream",
     "text": [
      "C:\\Users\\ReinisFals\\AppData\\Local\\Temp\\ipykernel_14304\\1302393740.py:12: FutureWarning: The default value of regex will change from True to False in a future version.\n",
      "  df[numeric_columns] = df[numeric_columns].apply(lambda x: x.str.replace(r'\\.(\\d+)\\.', r'.\\1'))\n"
     ]
    },
    {
     "name": "stdout",
     "output_type": "stream",
     "text": [
      "Processed file: C:/Users/ReinisFals/OneDrive - Peero, SIA/Desktop/stat_arb_research/stat_arb_research/data/A_MERGEABLE/GRT\\GRT_combined.parquet\n"
     ]
    },
    {
     "name": "stderr",
     "output_type": "stream",
     "text": [
      "C:\\Users\\ReinisFals\\AppData\\Local\\Temp\\ipykernel_14304\\1302393740.py:12: FutureWarning: The default value of regex will change from True to False in a future version.\n",
      "  df[numeric_columns] = df[numeric_columns].apply(lambda x: x.str.replace(r'\\.(\\d+)\\.', r'.\\1'))\n"
     ]
    },
    {
     "name": "stdout",
     "output_type": "stream",
     "text": [
      "Processed file: C:/Users/ReinisFals/OneDrive - Peero, SIA/Desktop/stat_arb_research/stat_arb_research/data/A_MERGEABLE/HBAR\\HBAR_combined.parquet\n"
     ]
    },
    {
     "name": "stderr",
     "output_type": "stream",
     "text": [
      "C:\\Users\\ReinisFals\\AppData\\Local\\Temp\\ipykernel_14304\\1302393740.py:12: FutureWarning: The default value of regex will change from True to False in a future version.\n",
      "  df[numeric_columns] = df[numeric_columns].apply(lambda x: x.str.replace(r'\\.(\\d+)\\.', r'.\\1'))\n"
     ]
    },
    {
     "name": "stdout",
     "output_type": "stream",
     "text": [
      "Processed file: C:/Users/ReinisFals/OneDrive - Peero, SIA/Desktop/stat_arb_research/stat_arb_research/data/A_MERGEABLE/ICP\\ICP_combined.parquet\n"
     ]
    },
    {
     "name": "stderr",
     "output_type": "stream",
     "text": [
      "C:\\Users\\ReinisFals\\AppData\\Local\\Temp\\ipykernel_14304\\1302393740.py:12: FutureWarning: The default value of regex will change from True to False in a future version.\n",
      "  df[numeric_columns] = df[numeric_columns].apply(lambda x: x.str.replace(r'\\.(\\d+)\\.', r'.\\1'))\n"
     ]
    },
    {
     "name": "stdout",
     "output_type": "stream",
     "text": [
      "Processed file: C:/Users/ReinisFals/OneDrive - Peero, SIA/Desktop/stat_arb_research/stat_arb_research/data/A_MERGEABLE/IMX\\IMX_combined.parquet\n"
     ]
    },
    {
     "name": "stderr",
     "output_type": "stream",
     "text": [
      "C:\\Users\\ReinisFals\\AppData\\Local\\Temp\\ipykernel_14304\\1302393740.py:12: FutureWarning: The default value of regex will change from True to False in a future version.\n",
      "  df[numeric_columns] = df[numeric_columns].apply(lambda x: x.str.replace(r'\\.(\\d+)\\.', r'.\\1'))\n"
     ]
    },
    {
     "name": "stdout",
     "output_type": "stream",
     "text": [
      "Processed file: C:/Users/ReinisFals/OneDrive - Peero, SIA/Desktop/stat_arb_research/stat_arb_research/data/A_MERGEABLE/INJ\\INJ_combined.parquet\n"
     ]
    },
    {
     "name": "stderr",
     "output_type": "stream",
     "text": [
      "C:\\Users\\ReinisFals\\AppData\\Local\\Temp\\ipykernel_14304\\1302393740.py:12: FutureWarning: The default value of regex will change from True to False in a future version.\n",
      "  df[numeric_columns] = df[numeric_columns].apply(lambda x: x.str.replace(r'\\.(\\d+)\\.', r'.\\1'))\n"
     ]
    },
    {
     "name": "stdout",
     "output_type": "stream",
     "text": [
      "Processed file: C:/Users/ReinisFals/OneDrive - Peero, SIA/Desktop/stat_arb_research/stat_arb_research/data/A_MERGEABLE/LDO\\LDO_combined.parquet\n"
     ]
    },
    {
     "name": "stderr",
     "output_type": "stream",
     "text": [
      "C:\\Users\\ReinisFals\\AppData\\Local\\Temp\\ipykernel_14304\\1302393740.py:12: FutureWarning: The default value of regex will change from True to False in a future version.\n",
      "  df[numeric_columns] = df[numeric_columns].apply(lambda x: x.str.replace(r'\\.(\\d+)\\.', r'.\\1'))\n"
     ]
    },
    {
     "name": "stdout",
     "output_type": "stream",
     "text": [
      "Processed file: C:/Users/ReinisFals/OneDrive - Peero, SIA/Desktop/stat_arb_research/stat_arb_research/data/A_MERGEABLE/LINK\\LINK_combined.parquet\n"
     ]
    },
    {
     "name": "stderr",
     "output_type": "stream",
     "text": [
      "C:\\Users\\ReinisFals\\AppData\\Local\\Temp\\ipykernel_14304\\1302393740.py:12: FutureWarning: The default value of regex will change from True to False in a future version.\n",
      "  df[numeric_columns] = df[numeric_columns].apply(lambda x: x.str.replace(r'\\.(\\d+)\\.', r'.\\1'))\n"
     ]
    },
    {
     "name": "stdout",
     "output_type": "stream",
     "text": [
      "Processed file: C:/Users/ReinisFals/OneDrive - Peero, SIA/Desktop/stat_arb_research/stat_arb_research/data/A_MERGEABLE/LTC\\LTC_combined.parquet\n"
     ]
    },
    {
     "name": "stderr",
     "output_type": "stream",
     "text": [
      "C:\\Users\\ReinisFals\\AppData\\Local\\Temp\\ipykernel_14304\\1302393740.py:12: FutureWarning: The default value of regex will change from True to False in a future version.\n",
      "  df[numeric_columns] = df[numeric_columns].apply(lambda x: x.str.replace(r'\\.(\\d+)\\.', r'.\\1'))\n"
     ]
    },
    {
     "name": "stdout",
     "output_type": "stream",
     "text": [
      "Processed file: C:/Users/ReinisFals/OneDrive - Peero, SIA/Desktop/stat_arb_research/stat_arb_research/data/A_MERGEABLE/MAGIC\\MAGIC_combined.parquet\n"
     ]
    },
    {
     "name": "stderr",
     "output_type": "stream",
     "text": [
      "C:\\Users\\ReinisFals\\AppData\\Local\\Temp\\ipykernel_14304\\1302393740.py:12: FutureWarning: The default value of regex will change from True to False in a future version.\n",
      "  df[numeric_columns] = df[numeric_columns].apply(lambda x: x.str.replace(r'\\.(\\d+)\\.', r'.\\1'))\n"
     ]
    },
    {
     "name": "stdout",
     "output_type": "stream",
     "text": [
      "Processed file: C:/Users/ReinisFals/OneDrive - Peero, SIA/Desktop/stat_arb_research/stat_arb_research/data/A_MERGEABLE/MANA\\MANA_combined.parquet\n"
     ]
    },
    {
     "name": "stderr",
     "output_type": "stream",
     "text": [
      "C:\\Users\\ReinisFals\\AppData\\Local\\Temp\\ipykernel_14304\\1302393740.py:12: FutureWarning: The default value of regex will change from True to False in a future version.\n",
      "  df[numeric_columns] = df[numeric_columns].apply(lambda x: x.str.replace(r'\\.(\\d+)\\.', r'.\\1'))\n"
     ]
    },
    {
     "name": "stdout",
     "output_type": "stream",
     "text": [
      "Processed file: C:/Users/ReinisFals/OneDrive - Peero, SIA/Desktop/stat_arb_research/stat_arb_research/data/A_MERGEABLE/MATIC\\MATIC_combined.parquet\n"
     ]
    },
    {
     "name": "stderr",
     "output_type": "stream",
     "text": [
      "C:\\Users\\ReinisFals\\AppData\\Local\\Temp\\ipykernel_14304\\1302393740.py:12: FutureWarning: The default value of regex will change from True to False in a future version.\n",
      "  df[numeric_columns] = df[numeric_columns].apply(lambda x: x.str.replace(r'\\.(\\d+)\\.', r'.\\1'))\n"
     ]
    },
    {
     "name": "stdout",
     "output_type": "stream",
     "text": [
      "Processed file: C:/Users/ReinisFals/OneDrive - Peero, SIA/Desktop/stat_arb_research/stat_arb_research/data/A_MERGEABLE/MKR\\MKR_combined.parquet\n"
     ]
    },
    {
     "name": "stderr",
     "output_type": "stream",
     "text": [
      "C:\\Users\\ReinisFals\\AppData\\Local\\Temp\\ipykernel_14304\\1302393740.py:12: FutureWarning: The default value of regex will change from True to False in a future version.\n",
      "  df[numeric_columns] = df[numeric_columns].apply(lambda x: x.str.replace(r'\\.(\\d+)\\.', r'.\\1'))\n"
     ]
    },
    {
     "name": "stdout",
     "output_type": "stream",
     "text": [
      "Processed file: C:/Users/ReinisFals/OneDrive - Peero, SIA/Desktop/stat_arb_research/stat_arb_research/data/A_MERGEABLE/NEAR\\NEAR_combined.parquet\n"
     ]
    },
    {
     "name": "stderr",
     "output_type": "stream",
     "text": [
      "C:\\Users\\ReinisFals\\AppData\\Local\\Temp\\ipykernel_14304\\1302393740.py:12: FutureWarning: The default value of regex will change from True to False in a future version.\n",
      "  df[numeric_columns] = df[numeric_columns].apply(lambda x: x.str.replace(r'\\.(\\d+)\\.', r'.\\1'))\n"
     ]
    },
    {
     "name": "stdout",
     "output_type": "stream",
     "text": [
      "Processed file: C:/Users/ReinisFals/OneDrive - Peero, SIA/Desktop/stat_arb_research/stat_arb_research/data/A_MERGEABLE/NEO\\NEO_combined.parquet\n"
     ]
    },
    {
     "name": "stderr",
     "output_type": "stream",
     "text": [
      "C:\\Users\\ReinisFals\\AppData\\Local\\Temp\\ipykernel_14304\\1302393740.py:12: FutureWarning: The default value of regex will change from True to False in a future version.\n",
      "  df[numeric_columns] = df[numeric_columns].apply(lambda x: x.str.replace(r'\\.(\\d+)\\.', r'.\\1'))\n"
     ]
    },
    {
     "name": "stdout",
     "output_type": "stream",
     "text": [
      "Processed file: C:/Users/ReinisFals/OneDrive - Peero, SIA/Desktop/stat_arb_research/stat_arb_research/data/A_MERGEABLE/OP\\OP_combined.parquet\n"
     ]
    },
    {
     "name": "stderr",
     "output_type": "stream",
     "text": [
      "C:\\Users\\ReinisFals\\AppData\\Local\\Temp\\ipykernel_14304\\1302393740.py:12: FutureWarning: The default value of regex will change from True to False in a future version.\n",
      "  df[numeric_columns] = df[numeric_columns].apply(lambda x: x.str.replace(r'\\.(\\d+)\\.', r'.\\1'))\n"
     ]
    },
    {
     "name": "stdout",
     "output_type": "stream",
     "text": [
      "Processed file: C:/Users/ReinisFals/OneDrive - Peero, SIA/Desktop/stat_arb_research/stat_arb_research/data/A_MERGEABLE/QNT\\QNT_combined.parquet\n"
     ]
    },
    {
     "name": "stderr",
     "output_type": "stream",
     "text": [
      "C:\\Users\\ReinisFals\\AppData\\Local\\Temp\\ipykernel_14304\\1302393740.py:12: FutureWarning: The default value of regex will change from True to False in a future version.\n",
      "  df[numeric_columns] = df[numeric_columns].apply(lambda x: x.str.replace(r'\\.(\\d+)\\.', r'.\\1'))\n"
     ]
    },
    {
     "name": "stdout",
     "output_type": "stream",
     "text": [
      "Processed file: C:/Users/ReinisFals/OneDrive - Peero, SIA/Desktop/stat_arb_research/stat_arb_research/data/A_MERGEABLE/RNDR\\RNDR_combined.parquet\n"
     ]
    },
    {
     "name": "stderr",
     "output_type": "stream",
     "text": [
      "C:\\Users\\ReinisFals\\AppData\\Local\\Temp\\ipykernel_14304\\1302393740.py:12: FutureWarning: The default value of regex will change from True to False in a future version.\n",
      "  df[numeric_columns] = df[numeric_columns].apply(lambda x: x.str.replace(r'\\.(\\d+)\\.', r'.\\1'))\n"
     ]
    },
    {
     "name": "stdout",
     "output_type": "stream",
     "text": [
      "Processed file: C:/Users/ReinisFals/OneDrive - Peero, SIA/Desktop/stat_arb_research/stat_arb_research/data/A_MERGEABLE/RPL\\RPL_combined.parquet\n"
     ]
    },
    {
     "name": "stderr",
     "output_type": "stream",
     "text": [
      "C:\\Users\\ReinisFals\\AppData\\Local\\Temp\\ipykernel_14304\\1302393740.py:12: FutureWarning: The default value of regex will change from True to False in a future version.\n",
      "  df[numeric_columns] = df[numeric_columns].apply(lambda x: x.str.replace(r'\\.(\\d+)\\.', r'.\\1'))\n"
     ]
    },
    {
     "name": "stdout",
     "output_type": "stream",
     "text": [
      "Processed file: C:/Users/ReinisFals/OneDrive - Peero, SIA/Desktop/stat_arb_research/stat_arb_research/data/A_MERGEABLE/SAND\\SAND_combined.parquet\n"
     ]
    },
    {
     "name": "stderr",
     "output_type": "stream",
     "text": [
      "C:\\Users\\ReinisFals\\AppData\\Local\\Temp\\ipykernel_14304\\1302393740.py:12: FutureWarning: The default value of regex will change from True to False in a future version.\n",
      "  df[numeric_columns] = df[numeric_columns].apply(lambda x: x.str.replace(r'\\.(\\d+)\\.', r'.\\1'))\n"
     ]
    },
    {
     "name": "stdout",
     "output_type": "stream",
     "text": [
      "Processed file: C:/Users/ReinisFals/OneDrive - Peero, SIA/Desktop/stat_arb_research/stat_arb_research/data/A_MERGEABLE/SHIB\\SHIB_combined.parquet\n"
     ]
    },
    {
     "name": "stderr",
     "output_type": "stream",
     "text": [
      "C:\\Users\\ReinisFals\\AppData\\Local\\Temp\\ipykernel_14304\\1302393740.py:12: FutureWarning: The default value of regex will change from True to False in a future version.\n",
      "  df[numeric_columns] = df[numeric_columns].apply(lambda x: x.str.replace(r'\\.(\\d+)\\.', r'.\\1'))\n"
     ]
    },
    {
     "name": "stdout",
     "output_type": "stream",
     "text": [
      "Processed file: C:/Users/ReinisFals/OneDrive - Peero, SIA/Desktop/stat_arb_research/stat_arb_research/data/A_MERGEABLE/SOL\\SOL_combined.parquet\n"
     ]
    },
    {
     "name": "stderr",
     "output_type": "stream",
     "text": [
      "C:\\Users\\ReinisFals\\AppData\\Local\\Temp\\ipykernel_14304\\1302393740.py:12: FutureWarning: The default value of regex will change from True to False in a future version.\n",
      "  df[numeric_columns] = df[numeric_columns].apply(lambda x: x.str.replace(r'\\.(\\d+)\\.', r'.\\1'))\n"
     ]
    },
    {
     "name": "stdout",
     "output_type": "stream",
     "text": [
      "Processed file: C:/Users/ReinisFals/OneDrive - Peero, SIA/Desktop/stat_arb_research/stat_arb_research/data/A_MERGEABLE/STX\\STX_combined.parquet\n"
     ]
    },
    {
     "name": "stderr",
     "output_type": "stream",
     "text": [
      "C:\\Users\\ReinisFals\\AppData\\Local\\Temp\\ipykernel_14304\\1302393740.py:12: FutureWarning: The default value of regex will change from True to False in a future version.\n",
      "  df[numeric_columns] = df[numeric_columns].apply(lambda x: x.str.replace(r'\\.(\\d+)\\.', r'.\\1'))\n"
     ]
    },
    {
     "name": "stdout",
     "output_type": "stream",
     "text": [
      "Processed file: C:/Users/ReinisFals/OneDrive - Peero, SIA/Desktop/stat_arb_research/stat_arb_research/data/A_MERGEABLE/THETA\\THETA_combined.parquet\n"
     ]
    },
    {
     "name": "stderr",
     "output_type": "stream",
     "text": [
      "C:\\Users\\ReinisFals\\AppData\\Local\\Temp\\ipykernel_14304\\1302393740.py:12: FutureWarning: The default value of regex will change from True to False in a future version.\n",
      "  df[numeric_columns] = df[numeric_columns].apply(lambda x: x.str.replace(r'\\.(\\d+)\\.', r'.\\1'))\n"
     ]
    },
    {
     "name": "stdout",
     "output_type": "stream",
     "text": [
      "Processed file: C:/Users/ReinisFals/OneDrive - Peero, SIA/Desktop/stat_arb_research/stat_arb_research/data/A_MERGEABLE/TRX\\TRX_combined.parquet\n"
     ]
    },
    {
     "name": "stderr",
     "output_type": "stream",
     "text": [
      "C:\\Users\\ReinisFals\\AppData\\Local\\Temp\\ipykernel_14304\\1302393740.py:12: FutureWarning: The default value of regex will change from True to False in a future version.\n",
      "  df[numeric_columns] = df[numeric_columns].apply(lambda x: x.str.replace(r'\\.(\\d+)\\.', r'.\\1'))\n"
     ]
    },
    {
     "name": "stdout",
     "output_type": "stream",
     "text": [
      "Processed file: C:/Users/ReinisFals/OneDrive - Peero, SIA/Desktop/stat_arb_research/stat_arb_research/data/A_MERGEABLE/UNI\\UNI_combined.parquet\n"
     ]
    },
    {
     "name": "stderr",
     "output_type": "stream",
     "text": [
      "C:\\Users\\ReinisFals\\AppData\\Local\\Temp\\ipykernel_14304\\1302393740.py:12: FutureWarning: The default value of regex will change from True to False in a future version.\n",
      "  df[numeric_columns] = df[numeric_columns].apply(lambda x: x.str.replace(r'\\.(\\d+)\\.', r'.\\1'))\n"
     ]
    },
    {
     "name": "stdout",
     "output_type": "stream",
     "text": [
      "Processed file: C:/Users/ReinisFals/OneDrive - Peero, SIA/Desktop/stat_arb_research/stat_arb_research/data/A_MERGEABLE/VET\\VET_combined.parquet\n"
     ]
    },
    {
     "name": "stderr",
     "output_type": "stream",
     "text": [
      "C:\\Users\\ReinisFals\\AppData\\Local\\Temp\\ipykernel_14304\\1302393740.py:12: FutureWarning: The default value of regex will change from True to False in a future version.\n",
      "  df[numeric_columns] = df[numeric_columns].apply(lambda x: x.str.replace(r'\\.(\\d+)\\.', r'.\\1'))\n"
     ]
    },
    {
     "name": "stdout",
     "output_type": "stream",
     "text": [
      "Processed file: C:/Users/ReinisFals/OneDrive - Peero, SIA/Desktop/stat_arb_research/stat_arb_research/data/A_MERGEABLE/XEC\\XEC_combined.parquet\n"
     ]
    },
    {
     "name": "stderr",
     "output_type": "stream",
     "text": [
      "C:\\Users\\ReinisFals\\AppData\\Local\\Temp\\ipykernel_14304\\1302393740.py:12: FutureWarning: The default value of regex will change from True to False in a future version.\n",
      "  df[numeric_columns] = df[numeric_columns].apply(lambda x: x.str.replace(r'\\.(\\d+)\\.', r'.\\1'))\n"
     ]
    },
    {
     "name": "stdout",
     "output_type": "stream",
     "text": [
      "Processed file: C:/Users/ReinisFals/OneDrive - Peero, SIA/Desktop/stat_arb_research/stat_arb_research/data/A_MERGEABLE/XLM\\XLM_combined.parquet\n"
     ]
    },
    {
     "name": "stderr",
     "output_type": "stream",
     "text": [
      "C:\\Users\\ReinisFals\\AppData\\Local\\Temp\\ipykernel_14304\\1302393740.py:12: FutureWarning: The default value of regex will change from True to False in a future version.\n",
      "  df[numeric_columns] = df[numeric_columns].apply(lambda x: x.str.replace(r'\\.(\\d+)\\.', r'.\\1'))\n"
     ]
    },
    {
     "name": "stdout",
     "output_type": "stream",
     "text": [
      "Processed file: C:/Users/ReinisFals/OneDrive - Peero, SIA/Desktop/stat_arb_research/stat_arb_research/data/A_MERGEABLE/XMR\\XMR_combined.parquet\n"
     ]
    },
    {
     "name": "stderr",
     "output_type": "stream",
     "text": [
      "C:\\Users\\ReinisFals\\AppData\\Local\\Temp\\ipykernel_14304\\1302393740.py:12: FutureWarning: The default value of regex will change from True to False in a future version.\n",
      "  df[numeric_columns] = df[numeric_columns].apply(lambda x: x.str.replace(r'\\.(\\d+)\\.', r'.\\1'))\n"
     ]
    },
    {
     "name": "stdout",
     "output_type": "stream",
     "text": [
      "Processed file: C:/Users/ReinisFals/OneDrive - Peero, SIA/Desktop/stat_arb_research/stat_arb_research/data/A_MERGEABLE/XRP\\XRP_combined.parquet\n"
     ]
    },
    {
     "name": "stderr",
     "output_type": "stream",
     "text": [
      "C:\\Users\\ReinisFals\\AppData\\Local\\Temp\\ipykernel_14304\\1302393740.py:12: FutureWarning: The default value of regex will change from True to False in a future version.\n",
      "  df[numeric_columns] = df[numeric_columns].apply(lambda x: x.str.replace(r'\\.(\\d+)\\.', r'.\\1'))\n"
     ]
    },
    {
     "name": "stdout",
     "output_type": "stream",
     "text": [
      "Processed file: C:/Users/ReinisFals/OneDrive - Peero, SIA/Desktop/stat_arb_research/stat_arb_research/data/A_MERGEABLE/XTZ\\XTZ_combined.parquet\n"
     ]
    }
   ],
   "source": [
    "process_folders_v3(folder_path)"
   ]
  },
  {
   "cell_type": "code",
   "execution_count": 48,
   "metadata": {},
   "outputs": [
    {
     "data": {
      "text/html": [
       "<div>\n",
       "<style scoped>\n",
       "    .dataframe tbody tr th:only-of-type {\n",
       "        vertical-align: middle;\n",
       "    }\n",
       "\n",
       "    .dataframe tbody tr th {\n",
       "        vertical-align: top;\n",
       "    }\n",
       "\n",
       "    .dataframe thead th {\n",
       "        text-align: right;\n",
       "    }\n",
       "</style>\n",
       "<table border=\"1\" class=\"dataframe\">\n",
       "  <thead>\n",
       "    <tr style=\"text-align: right;\">\n",
       "      <th></th>\n",
       "      <th>open</th>\n",
       "      <th>high</th>\n",
       "      <th>low</th>\n",
       "      <th>close</th>\n",
       "      <th>volume</th>\n",
       "      <th>quote_asset_volume</th>\n",
       "      <th>count</th>\n",
       "      <th>taker_buy_base_asset_volume</th>\n",
       "      <th>taker_buy_quote_asset_volume</th>\n",
       "    </tr>\n",
       "    <tr>\n",
       "      <th>open_time</th>\n",
       "      <th></th>\n",
       "      <th></th>\n",
       "      <th></th>\n",
       "      <th></th>\n",
       "      <th></th>\n",
       "      <th></th>\n",
       "      <th></th>\n",
       "      <th></th>\n",
       "      <th></th>\n",
       "    </tr>\n",
       "  </thead>\n",
       "  <tbody>\n",
       "    <tr>\n",
       "      <th>2020-10-15 03:00:00</th>\n",
       "      <td>51.430</td>\n",
       "      <td>59.000</td>\n",
       "      <td>50.666</td>\n",
       "      <td>55.607</td>\n",
       "      <td>1369.481</td>\n",
       "      <td>75607.779013</td>\n",
       "      <td>361</td>\n",
       "      <td>898.434</td>\n",
       "      <td>50012.700480</td>\n",
       "    </tr>\n",
       "    <tr>\n",
       "      <th>2020-10-15 03:01:00</th>\n",
       "      <td>55.603</td>\n",
       "      <td>55.623</td>\n",
       "      <td>52.000</td>\n",
       "      <td>52.845</td>\n",
       "      <td>1120.278</td>\n",
       "      <td>59696.689968</td>\n",
       "      <td>178</td>\n",
       "      <td>658.949</td>\n",
       "      <td>35330.288555</td>\n",
       "    </tr>\n",
       "    <tr>\n",
       "      <th>2020-10-15 03:02:00</th>\n",
       "      <td>52.845</td>\n",
       "      <td>52.846</td>\n",
       "      <td>51.283</td>\n",
       "      <td>51.999</td>\n",
       "      <td>466.672</td>\n",
       "      <td>24288.122840</td>\n",
       "      <td>94</td>\n",
       "      <td>185.675</td>\n",
       "      <td>9659.760008</td>\n",
       "    </tr>\n",
       "    <tr>\n",
       "      <th>2020-10-15 03:03:00</th>\n",
       "      <td>51.999</td>\n",
       "      <td>52.000</td>\n",
       "      <td>50.665</td>\n",
       "      <td>51.736</td>\n",
       "      <td>205.109</td>\n",
       "      <td>10594.203061</td>\n",
       "      <td>68</td>\n",
       "      <td>78.099</td>\n",
       "      <td>4043.744534</td>\n",
       "    </tr>\n",
       "    <tr>\n",
       "      <th>2020-10-15 03:04:00</th>\n",
       "      <td>51.742</td>\n",
       "      <td>51.776</td>\n",
       "      <td>51.500</td>\n",
       "      <td>51.632</td>\n",
       "      <td>310.324</td>\n",
       "      <td>16011.251406</td>\n",
       "      <td>44</td>\n",
       "      <td>174.396</td>\n",
       "      <td>9004.233218</td>\n",
       "    </tr>\n",
       "    <tr>\n",
       "      <th>...</th>\n",
       "      <td>...</td>\n",
       "      <td>...</td>\n",
       "      <td>...</td>\n",
       "      <td>...</td>\n",
       "      <td>...</td>\n",
       "      <td>...</td>\n",
       "      <td>...</td>\n",
       "      <td>...</td>\n",
       "      <td>...</td>\n",
       "    </tr>\n",
       "    <tr>\n",
       "      <th>2023-06-30 23:55:00</th>\n",
       "      <td>70.420</td>\n",
       "      <td>70.480</td>\n",
       "      <td>70.350</td>\n",
       "      <td>70.450</td>\n",
       "      <td>137.566</td>\n",
       "      <td>9687.041260</td>\n",
       "      <td>47</td>\n",
       "      <td>48.426</td>\n",
       "      <td>3410.253620</td>\n",
       "    </tr>\n",
       "    <tr>\n",
       "      <th>2023-06-30 23:56:00</th>\n",
       "      <td>70.450</td>\n",
       "      <td>70.490</td>\n",
       "      <td>70.380</td>\n",
       "      <td>70.380</td>\n",
       "      <td>82.083</td>\n",
       "      <td>5783.088290</td>\n",
       "      <td>24</td>\n",
       "      <td>0.349</td>\n",
       "      <td>24.595430</td>\n",
       "    </tr>\n",
       "    <tr>\n",
       "      <th>2023-06-30 23:57:00</th>\n",
       "      <td>70.380</td>\n",
       "      <td>70.410</td>\n",
       "      <td>70.380</td>\n",
       "      <td>70.400</td>\n",
       "      <td>85.018</td>\n",
       "      <td>5984.984200</td>\n",
       "      <td>25</td>\n",
       "      <td>28.818</td>\n",
       "      <td>2028.607200</td>\n",
       "    </tr>\n",
       "    <tr>\n",
       "      <th>2023-06-30 23:58:00</th>\n",
       "      <td>70.420</td>\n",
       "      <td>70.450</td>\n",
       "      <td>70.420</td>\n",
       "      <td>70.430</td>\n",
       "      <td>37.615</td>\n",
       "      <td>2649.346540</td>\n",
       "      <td>11</td>\n",
       "      <td>5.506</td>\n",
       "      <td>387.840560</td>\n",
       "    </tr>\n",
       "    <tr>\n",
       "      <th>2023-06-30 23:59:00</th>\n",
       "      <td>70.440</td>\n",
       "      <td>70.540</td>\n",
       "      <td>70.440</td>\n",
       "      <td>70.540</td>\n",
       "      <td>71.723</td>\n",
       "      <td>5055.809220</td>\n",
       "      <td>21</td>\n",
       "      <td>33.072</td>\n",
       "      <td>2330.776800</td>\n",
       "    </tr>\n",
       "  </tbody>\n",
       "</table>\n",
       "<p>1422556 rows × 9 columns</p>\n",
       "</div>"
      ],
      "text/plain": [
       "                       open    high     low   close    volume  \\\n",
       "open_time                                                       \n",
       "2020-10-15 03:00:00  51.430  59.000  50.666  55.607  1369.481   \n",
       "2020-10-15 03:01:00  55.603  55.623  52.000  52.845  1120.278   \n",
       "2020-10-15 03:02:00  52.845  52.846  51.283  51.999   466.672   \n",
       "2020-10-15 03:03:00  51.999  52.000  50.665  51.736   205.109   \n",
       "2020-10-15 03:04:00  51.742  51.776  51.500  51.632   310.324   \n",
       "...                     ...     ...     ...     ...       ...   \n",
       "2023-06-30 23:55:00  70.420  70.480  70.350  70.450   137.566   \n",
       "2023-06-30 23:56:00  70.450  70.490  70.380  70.380    82.083   \n",
       "2023-06-30 23:57:00  70.380  70.410  70.380  70.400    85.018   \n",
       "2023-06-30 23:58:00  70.420  70.450  70.420  70.430    37.615   \n",
       "2023-06-30 23:59:00  70.440  70.540  70.440  70.540    71.723   \n",
       "\n",
       "                     quote_asset_volume  count  taker_buy_base_asset_volume  \\\n",
       "open_time                                                                     \n",
       "2020-10-15 03:00:00        75607.779013    361                      898.434   \n",
       "2020-10-15 03:01:00        59696.689968    178                      658.949   \n",
       "2020-10-15 03:02:00        24288.122840     94                      185.675   \n",
       "2020-10-15 03:03:00        10594.203061     68                       78.099   \n",
       "2020-10-15 03:04:00        16011.251406     44                      174.396   \n",
       "...                                 ...    ...                          ...   \n",
       "2023-06-30 23:55:00         9687.041260     47                       48.426   \n",
       "2023-06-30 23:56:00         5783.088290     24                        0.349   \n",
       "2023-06-30 23:57:00         5984.984200     25                       28.818   \n",
       "2023-06-30 23:58:00         2649.346540     11                        5.506   \n",
       "2023-06-30 23:59:00         5055.809220     21                       33.072   \n",
       "\n",
       "                     taker_buy_quote_asset_volume  \n",
       "open_time                                          \n",
       "2020-10-15 03:00:00                  50012.700480  \n",
       "2020-10-15 03:01:00                  35330.288555  \n",
       "2020-10-15 03:02:00                   9659.760008  \n",
       "2020-10-15 03:03:00                   4043.744534  \n",
       "2020-10-15 03:04:00                   9004.233218  \n",
       "...                                           ...  \n",
       "2023-06-30 23:55:00                   3410.253620  \n",
       "2023-06-30 23:56:00                     24.595430  \n",
       "2023-06-30 23:57:00                   2028.607200  \n",
       "2023-06-30 23:58:00                    387.840560  \n",
       "2023-06-30 23:59:00                   2330.776800  \n",
       "\n",
       "[1422556 rows x 9 columns]"
      ]
     },
     "execution_count": 48,
     "metadata": {},
     "output_type": "execute_result"
    }
   ],
   "source": [
    "test = pd.read_parquet(r'C:\\Users\\ReinisFals\\OneDrive - Peero, SIA\\Desktop\\stat_arb_research\\stat_arb_research\\data\\A_MERGEABLE\\AAVE\\AAVE_combined.parquet')\n",
    "test"
   ]
  },
  {
   "cell_type": "code",
   "execution_count": null,
   "metadata": {},
   "outputs": [],
   "source": []
  }
 ],
 "metadata": {
  "kernelspec": {
   "display_name": "stat_arb_env",
   "language": "python",
   "name": "python3"
  },
  "language_info": {
   "codemirror_mode": {
    "name": "ipython",
    "version": 3
   },
   "file_extension": ".py",
   "mimetype": "text/x-python",
   "name": "python",
   "nbconvert_exporter": "python",
   "pygments_lexer": "ipython3",
   "version": "3.8.16"
  },
  "orig_nbformat": 4
 },
 "nbformat": 4,
 "nbformat_minor": 2
}
